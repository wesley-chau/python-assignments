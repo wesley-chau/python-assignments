{
 "cells": [
  {
   "cell_type": "markdown",
   "metadata": {},
   "source": [
    "### Regular Expressions\n",
    "\n",
    ">**Regular expressions** (called REs, or regexes, or regex patterns) are essentially **a tiny, highly specialized programming language embedded inside Python** and made available through the `re` module. [SOURCE](https://docs.python.org/3/howto/regex.html)"
   ]
  },
  {
   "cell_type": "markdown",
   "metadata": {},
   "source": [
    "####  Matching exercise"
   ]
  },
  {
   "cell_type": "code",
   "execution_count": 1,
   "metadata": {},
   "outputs": [],
   "source": [
    "# Import the re module-- we'll use this throughout the notebook\n",
    "import re"
   ]
  },
  {
   "cell_type": "code",
   "execution_count": null,
   "metadata": {},
   "outputs": [],
   "source": []
  },
  {
   "cell_type": "code",
   "execution_count": 2,
   "metadata": {},
   "outputs": [],
   "source": [
    "# check to see if phone is in text \n"
   ]
  },
  {
   "cell_type": "code",
   "execution_count": 3,
   "metadata": {},
   "outputs": [],
   "source": [
    "# yes, there is a match \n"
   ]
  },
  {
   "cell_type": "code",
   "execution_count": null,
   "metadata": {},
   "outputs": [],
   "source": []
  },
  {
   "cell_type": "code",
   "execution_count": 4,
   "metadata": {},
   "outputs": [],
   "source": [
    "# not a match, return nothing \n"
   ]
  },
  {
   "cell_type": "code",
   "execution_count": 5,
   "metadata": {},
   "outputs": [],
   "source": [
    "# reset to phone \n"
   ]
  },
  {
   "cell_type": "code",
   "execution_count": null,
   "metadata": {},
   "outputs": [],
   "source": []
  },
  {
   "cell_type": "code",
   "execution_count": 6,
   "metadata": {},
   "outputs": [],
   "source": [
    "# this is where the match expands, start and end\n",
    "\n"
   ]
  },
  {
   "cell_type": "code",
   "execution_count": 7,
   "metadata": {},
   "outputs": [],
   "source": [
    "# what if phone appears more than once? \n"
   ]
  },
  {
   "cell_type": "code",
   "execution_count": 8,
   "metadata": {},
   "outputs": [],
   "source": [
    "# it will only match the first instance \n"
   ]
  },
  {
   "cell_type": "code",
   "execution_count": 9,
   "metadata": {},
   "outputs": [],
   "source": [
    "# to find the match returned, use group () method \n"
   ]
  },
  {
   "cell_type": "code",
   "execution_count": 10,
   "metadata": {},
   "outputs": [],
   "source": [
    "# you need to use the findall() method to get all the matches \n"
   ]
  },
  {
   "cell_type": "markdown",
   "metadata": {},
   "source": [
    "#### Regex Patterns "
   ]
  },
  {
   "cell_type": "code",
   "execution_count": 11,
   "metadata": {},
   "outputs": [],
   "source": [
    "# recall \\d is for any digit \n"
   ]
  },
  {
   "cell_type": "code",
   "execution_count": 12,
   "metadata": {},
   "outputs": [],
   "source": [
    "\n",
    "\n",
    "# can also be written as the following \n",
    "# the {} represents number of times it repeats \n",
    "\n"
   ]
  },
  {
   "cell_type": "code",
   "execution_count": 13,
   "metadata": {},
   "outputs": [],
   "source": [
    "\n",
    "# groups are separated by parenthesis so you can use group(n) to isolate \n",
    "# order starts at 1 "
   ]
  },
  {
   "cell_type": "code",
   "execution_count": 14,
   "metadata": {},
   "outputs": [],
   "source": [
    "# use | for or operator \n",
    "\n"
   ]
  },
  {
   "cell_type": "code",
   "execution_count": null,
   "metadata": {},
   "outputs": [],
   "source": []
  },
  {
   "cell_type": "code",
   "execution_count": 19,
   "metadata": {},
   "outputs": [],
   "source": [
    "# use . for wildcard - match any character "
   ]
  },
  {
   "cell_type": "code",
   "execution_count": 15,
   "metadata": {},
   "outputs": [],
   "source": [
    "# notice how _am still counts \n"
   ]
  },
  {
   "cell_type": "code",
   "execution_count": 16,
   "metadata": {},
   "outputs": [],
   "source": [
    "# add more . for more wildcards \n"
   ]
  },
  {
   "cell_type": "code",
   "execution_count": 17,
   "metadata": {},
   "outputs": [],
   "source": [
    "# what if I want to grab one or more non whitespace that ends with at \n",
    "# use \\S for non whitespace \n",
    "# use + for 1 or more times\n"
   ]
  },
  {
   "cell_type": "code",
   "execution_count": 23,
   "metadata": {},
   "outputs": [],
   "source": [
    "# use ^ for start with \n",
    "# use $ for end with "
   ]
  },
  {
   "cell_type": "code",
   "execution_count": 18,
   "metadata": {},
   "outputs": [],
   "source": [
    "# start with a number  \n"
   ]
  },
  {
   "cell_type": "code",
   "execution_count": 19,
   "metadata": {},
   "outputs": [],
   "source": [
    "# ends with a number  \n"
   ]
  },
  {
   "cell_type": "code",
   "execution_count": 26,
   "metadata": {},
   "outputs": [],
   "source": [
    "# use brackets for grouping \n",
    "# use \\w for alphanumeric \n",
    "# use + for occurs more than one time "
   ]
  },
  {
   "cell_type": "code",
   "execution_count": null,
   "metadata": {},
   "outputs": [],
   "source": []
  },
  {
   "cell_type": "code",
   "execution_count": 28,
   "metadata": {},
   "outputs": [],
   "source": [
    "# to exclude use ^ and []  \n",
    "# anything inside the [] will be excluded "
   ]
  },
  {
   "cell_type": "code",
   "execution_count": 20,
   "metadata": {},
   "outputs": [],
   "source": [
    "# exclude numbers \n",
    "\n"
   ]
  },
  {
   "cell_type": "code",
   "execution_count": 21,
   "metadata": {},
   "outputs": [],
   "source": [
    "# to put words back together use + sign \n"
   ]
  },
  {
   "cell_type": "code",
   "execution_count": 22,
   "metadata": {},
   "outputs": [],
   "source": [
    "#use case, removing puctuation \n",
    "\n"
   ]
  },
  {
   "cell_type": "code",
   "execution_count": 23,
   "metadata": {},
   "outputs": [],
   "source": [
    "# found list of pucntionation online\" !\"#$%&\\'()*+,-./:;<=>?@[\\\\]^_`{|}~]+ ',sentence)\n"
   ]
  },
  {
   "cell_type": "code",
   "execution_count": 24,
   "metadata": {},
   "outputs": [],
   "source": [
    "# join sentence \n"
   ]
  },
  {
   "cell_type": "code",
   "execution_count": null,
   "metadata": {},
   "outputs": [],
   "source": []
  },
  {
   "cell_type": "code",
   "execution_count": 25,
   "metadata": {},
   "outputs": [],
   "source": [
    "# use () for multiple options \n"
   ]
  },
  {
   "cell_type": "code",
   "execution_count": null,
   "metadata": {},
   "outputs": [],
   "source": []
  },
  {
   "cell_type": "code",
   "execution_count": null,
   "metadata": {},
   "outputs": [],
   "source": []
  },
  {
   "cell_type": "code",
   "execution_count": null,
   "metadata": {},
   "outputs": [],
   "source": []
  },
  {
   "cell_type": "markdown",
   "metadata": {},
   "source": [
    "#### An example\n",
    "\n",
    "Let's say we want to create a function that validates newschool email addresses.\n",
    "\n",
    "The function will return True if the address has the following features:<br>\n",
    "`five letters` + `three digits` + `@newschool.edu`\n",
    "\n",
    "Otherwise, it will return False."
   ]
  },
  {
   "cell_type": "code",
   "execution_count": 26,
   "metadata": {},
   "outputs": [],
   "source": [
    "# Without regular expressions\n"
   ]
  },
  {
   "cell_type": "code",
   "execution_count": 27,
   "metadata": {},
   "outputs": [],
   "source": [
    "# With regular expressions\n"
   ]
  },
  {
   "cell_type": "code",
   "execution_count": 28,
   "metadata": {},
   "outputs": [],
   "source": [
    "# Regular expressions become very important when the pattern\n",
    "# increases in flexibility. For example, creating a generic\n",
    "# email validator.\n"
   ]
  },
  {
   "cell_type": "markdown",
   "metadata": {},
   "source": [
    "<br>\n",
    "\n",
    "### General notes on regular expressions\n",
    "\n",
    "Regular expressions use `metacharacters`:\n",
    "\n",
    "`. ^ $ * + ? { } [ ] \\ | ( )`\n",
    "\n",
    "These metacharacters hold special meaning, giving regular expressions powerful flexibility compared to strings."
   ]
  },
  {
   "cell_type": "code",
   "execution_count": 42,
   "metadata": {},
   "outputs": [],
   "source": [
    "# Square brackets -> Sets of characters\n",
    "\n",
    "# Letters\n",
    "pattern = r\"[a-z]\" # All lowercase letters\n",
    "pattern = r\"[A-Z]\" # All uppercase letters\n",
    "pattern = r\"[A-z]\" # All letters (r\"[A-Za-z]\" also works)\n",
    "\n",
    "# Digits\n",
    "pattern = r\"[0-9]\" # All digits\n",
    "pattern = r\"[0-5]\" # All digits from 0 to 5\n",
    "\n",
    "# Custom set of characters\n",
    "pattern = r\"[A-z0-9]\" # All letters and digits\n",
    "pattern = r\"[AEIOUaeiou]\" # All vowels\n",
    "\n",
    "# NOT in set\n",
    "pattern = r\"[^aeiou]\" # Any symbol that is NOT a vowel\n",
    "pattern = r\"[^0-9]\" # Any symbol that is NOT a digit"
   ]
  },
  {
   "cell_type": "code",
   "execution_count": 43,
   "metadata": {},
   "outputs": [],
   "source": [
    "# Caret and dollar sign -> Beginning and end\n",
    "\n",
    "# At the beginning\n",
    "pattern = r\"^[A-z]\" # A letter at the beginning\n",
    "pattern = r\"^[0-9]\" # A number at the beginning\n",
    "\n",
    "# At the end\n",
    "pattern = r\"[A-z]$\" # A letter at the end\n",
    "pattern = r\"[0-9]$\" # A number at the end\n",
    "\n",
    "# Defining both beginning and end\n",
    "pattern = r\"^[A-z]$\" # Exactly one letter\n",
    "pattern = r\"^[0-9]$\" # Exactly one number"
   ]
  },
  {
   "cell_type": "code",
   "execution_count": 44,
   "metadata": {},
   "outputs": [],
   "source": [
    "# Curly brackets, asterisk, and question mark -> Repetition\n",
    "\n",
    "# Curly brackets\n",
    "pattern = r\"[A-z]{3}\" # Exactly three letters\n",
    "pattern = r\"[A-z]{3,5}\" # Between three and five letters\n",
    "\n",
    "# Asterisk\n",
    "pattern = r\"[A-z]*\" # Zero or more letters\n",
    "\n",
    "# Question mark\n",
    "pattern = r\"[A-z]?\" # One or more letters"
   ]
  },
  {
   "cell_type": "code",
   "execution_count": 45,
   "metadata": {},
   "outputs": [],
   "source": [
    "# Dot - Any character\n",
    "pattern = r\".\" # Any character\n",
    "pattern = r\".{3}\" # Three of any character\n",
    "pattern = r\"[A-z].?\" # Any letter followed by one or more of any character"
   ]
  },
  {
   "cell_type": "code",
   "execution_count": 46,
   "metadata": {},
   "outputs": [],
   "source": [
    "# Slash - Escape character\n",
    "pattern = r\"\\.\" # A literal period symbol\n",
    "pattern = r\"[A-z]?\\?\" # One or more letters followed by a literal question mark\n",
    "pattern = r\"\\[\\]\" # A literal set of square brackets"
   ]
  },
  {
   "cell_type": "code",
   "execution_count": 47,
   "metadata": {},
   "outputs": [],
   "source": [
    "# Parentheses - Grouping\n",
    "pattern = r\"anna( banana)*\" # 'anna' followed by zero or more 'banana's"
   ]
  },
  {
   "cell_type": "code",
   "execution_count": 48,
   "metadata": {},
   "outputs": [],
   "source": [
    "# Bar - Logical or\n",
    "pattern = r\"(anna|banana)\" # Either 'anna' or 'banana'\n",
    "pattern = r\"\\.(com|edu|org$)\" # Ends in a literal dot followed by 'com', 'edu', or 'org'\n",
    "pattern = r\"([aeiou]|[02468])\" # Either a vowel or an even number"
   ]
  }
 ],
 "metadata": {
  "kernelspec": {
   "display_name": "Python 3",
   "language": "python",
   "name": "python3"
  },
  "language_info": {
   "codemirror_mode": {
    "name": "ipython",
    "version": 3
   },
   "file_extension": ".py",
   "mimetype": "text/x-python",
   "name": "python",
   "nbconvert_exporter": "python",
   "pygments_lexer": "ipython3",
   "version": "3.8.8"
  }
 },
 "nbformat": 4,
 "nbformat_minor": 4
}
