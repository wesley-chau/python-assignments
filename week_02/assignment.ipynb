{
 "cells": [
  {
   "cell_type": "markdown",
   "metadata": {},
   "source": [
    "### Assignment: Poem (3 weeks)"
   ]
  },
  {
   "cell_type": "markdown",
   "metadata": {},
   "source": [
    "This is a practice assignment and you will only get graded on whether or not you did it. This is a 3 week assignment. Every week, please use what you learned in class to improve your poem-- adding different text or additinal narrative. Please remember to submit the link to this from your github on canvas. \n",
    "\n",
    "Code Poetry: https://www.popwebdesign.net/popart_blog/en/2018/01/code-poetry-poems-written-in-programming-languages/ \n",
    "\n",
    "Please use everything you learn today to construct a poem. If you're struggling with writing your own poem, feel free to convert an existing poem using code. Please remember to credit the poet if you an existing poem. \n",
    "\n",
    "See below for example. The below is merely an example. I expect yours to have a bit more elegant :) "
   ]
  },
  {
   "cell_type": "code",
   "execution_count": 8,
   "metadata": {},
   "outputs": [],
   "source": [
    "#Example\n",
    "\n",
    "def printPoem (): \n",
    "    print('I have eaten')\n",
    "    print('the plums')\n",
    "    print('that were in')\n",
    "    print('the icebox')\n",
    "    print('\\n')\n",
    "    print('and which')\n",
    "    print('you were probably')\n",
    "    print('saving')\n",
    "    print('for breakfast')\n",
    "    print('\\n')\n",
    "    print('Forgive me')\n",
    "    print('they were delicious')\n",
    "    print('so sweet')\n",
    "    print('and so cold')"
   ]
  },
  {
   "cell_type": "code",
   "execution_count": 9,
   "metadata": {},
   "outputs": [
    {
     "name": "stdout",
     "output_type": "stream",
     "text": [
      "I have eaten\n",
      "the plums\n",
      "that were in\n",
      "the icebox\n",
      "\n",
      "\n",
      "and which\n",
      "you were probably\n",
      "saving\n",
      "for breakfast\n",
      "\n",
      "\n",
      "Forgive me\n",
      "they were delicious\n",
      "so sweet\n",
      "and so cold\n"
     ]
    }
   ],
   "source": [
    "printPoem()"
   ]
  }
 ],
 "metadata": {
  "kernelspec": {
   "display_name": "Python 3",
   "language": "python",
   "name": "python3"
  },
  "language_info": {
   "codemirror_mode": {
    "name": "ipython",
    "version": 3
   },
   "file_extension": ".py",
   "mimetype": "text/x-python",
   "name": "python",
   "nbconvert_exporter": "python",
   "pygments_lexer": "ipython3",
   "version": "3.7.3"
  }
 },
 "nbformat": 4,
 "nbformat_minor": 2
}
