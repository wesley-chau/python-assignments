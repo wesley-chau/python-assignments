{
 "cells": [
  {
   "cell_type": "code",
   "execution_count": 17,
   "id": "68f67819",
   "metadata": {},
   "outputs": [
    {
     "name": "stdout",
     "output_type": "stream",
     "text": [
      "The Road Not Taken\n",
      "by Robert Frost\n",
      "\n",
      "\n",
      "Two roads diverged in a yellow wood,\n",
      "And sorry I could not travel both\n",
      "And be one traveler, long I stood\n",
      "And looked down one as far as I could\n",
      "To where it bent in the undergrowth;\n",
      "\n",
      "\n",
      "Then took the other, as just as fair,\n",
      "And having perhaps the better claim,\n",
      "Because it was grassy and wanted wear;\n",
      "Though as for that the passing there\n",
      "Had worn them really about the same,\n",
      "\n",
      "\n",
      "And both that morning equally lay\n",
      "In leaves no step had trodden black.\n",
      "Oh, I kept the first for another day!\n",
      "Yet knowing how way leads on to way,\n",
      "I doubted if I should ever come back.\n",
      "\n",
      "\n",
      "I shall be telling this with a sigh\n",
      "Somewhere ages and ages hence:\n",
      "Two roads diverged in a wood, and I—\n",
      "I took the one less traveled by,\n",
      "And that has made all the difference.\n"
     ]
    }
   ],
   "source": [
    "a = \"Two roads\"\n",
    "\n",
    "print('The Road Not Taken')\n",
    "print('by Robert Frost')\n",
    "print('\\n')\n",
    "print(f'{a} diverged in a yellow wood,')\n",
    "print('And sorry I could not travel both')\n",
    "print('And be one traveler, long I stood')\n",
    "print('And looked down one as far as I could')\n",
    "print('To where it bent in the undergrowth;')\n",
    "print('\\n')\n",
    "print('Then took the other, as just as fair,')\n",
    "print('And having perhaps the better claim,')\n",
    "print('Because it was grassy and wanted wear;')\n",
    "print('Though as for that the passing there')\n",
    "print('Had worn them really about the same,')\n",
    "print('\\n')\n",
    "print('And both that morning equally lay')\n",
    "print('In leaves no step had trodden black.')\n",
    "print('Oh, I kept the first for another day!')\n",
    "print('Yet knowing how way leads on to way,')\n",
    "print('I doubted if I should ever come back.')\n",
    "print('\\n')\n",
    "print('I shall be telling this with a sigh')\n",
    "print('Somewhere ages and ages hence:')\n",
    "print(f'{a} diverged in a wood, and I—')\n",
    "print('I took the one less traveled by,')\n",
    "print('And that has made all the difference.')"
   ]
  },
  {
   "cell_type": "code",
   "execution_count": null,
   "id": "c45372db",
   "metadata": {},
   "outputs": [],
   "source": []
  }
 ],
 "metadata": {
  "kernelspec": {
   "display_name": "Python 3",
   "language": "python",
   "name": "python3"
  },
  "language_info": {
   "codemirror_mode": {
    "name": "ipython",
    "version": 3
   },
   "file_extension": ".py",
   "mimetype": "text/x-python",
   "name": "python",
   "nbconvert_exporter": "python",
   "pygments_lexer": "ipython3",
   "version": "3.8.8"
  }
 },
 "nbformat": 4,
 "nbformat_minor": 5
}
