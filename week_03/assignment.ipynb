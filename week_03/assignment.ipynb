{
 "cells": [
  {
   "cell_type": "markdown",
   "metadata": {},
   "source": [
    "### Assignment: Poem (3 weeks)"
   ]
  },
  {
   "cell_type": "markdown",
   "metadata": {},
   "source": [
    "This is a practice assignment and you will only get graded on whether or not you did it. This is a 3 week assignment. Every week, please use what you learned in class to improve your poem-- adding different text or additinal narrative. Please remember to submit the link to this from your github on canvas. \n",
    "\n",
    "Code Poetry: https://www.popwebdesign.net/popart_blog/en/2018/01/code-poetry-poems-written-in-programming-languages/ \n",
    "\n",
    "Please use everything you learn today to construct a poem. If you're struggling with writing your own poem, feel free to convert an existing poem using code. Please remember to credit the poet if you an existing poem. \n",
    "\n",
    "See below for example. The below is merely an example. I expect yours to have a bit more elegant :) "
   ]
  },
  {
   "cell_type": "markdown",
   "metadata": {},
   "source": [
    "\n",
    "This is the last week of your poem assignment. Please do the following: \n",
    "<ul>\n",
    "    <li>Final Iteration of your 3 week poem using everything you've learned</li>\n",
    "    <li>Bonus: A code poem that will not run (see below for example)</li>\n",
    "</ul>"
   ]
  },
  {
   "cell_type": "code",
   "execution_count": null,
   "metadata": {},
   "outputs": [],
   "source": [
    "#Example: https://pioneerworks.org/broadcast/between-code-and-poetry-with-lai-yi-ohlsen"
   ]
  },
  {
   "cell_type": "code",
   "execution_count": null,
   "metadata": {},
   "outputs": [],
   "source": [
    "#code poem by Lai Yi Ohlsen \n",
    "\n",
    "x = expectation \n",
    "\n",
    "while (worry > 0 and progress < 0): \n",
    "    progress -- \n",
    "    worry ++ "
   ]
  },
  {
   "cell_type": "code",
   "execution_count": null,
   "metadata": {},
   "outputs": [],
   "source": []
  }
 ],
 "metadata": {
  "kernelspec": {
   "display_name": "Python 3",
   "language": "python",
   "name": "python3"
  },
  "language_info": {
   "codemirror_mode": {
    "name": "ipython",
    "version": 3
   },
   "file_extension": ".py",
   "mimetype": "text/x-python",
   "name": "python",
   "nbconvert_exporter": "python",
   "pygments_lexer": "ipython3",
   "version": "3.7.3"
  }
 },
 "nbformat": 4,
 "nbformat_minor": 2
}
