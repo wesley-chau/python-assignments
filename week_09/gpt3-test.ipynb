{
 "cells": [
  {
   "cell_type": "code",
   "execution_count": 6,
   "metadata": {},
   "outputs": [],
   "source": [
    "#guide https://beta.openai.com/docs/developer-quickstart/python-bindings\n",
    "#make sure you download pip install openai \n",
    "\n",
    "import os\n",
    "import openai\n",
    "import getpass"
   ]
  },
  {
   "cell_type": "code",
   "execution_count": 2,
   "metadata": {},
   "outputs": [
    {
     "name": "stdout",
     "output_type": "stream",
     "text": [
      "API Key:········\n"
     ]
    }
   ],
   "source": [
    "openai.api_key = getpass.getpass('API Key:')"
   ]
  },
  {
   "cell_type": "code",
   "execution_count": 3,
   "metadata": {},
   "outputs": [],
   "source": [
    "text = 'I have eaten the plums that were in the icebox and whichyou were probably saving for breakfast Forgive me they were delicious so sweet and so cold'"
   ]
  },
  {
   "cell_type": "code",
   "execution_count": 4,
   "metadata": {},
   "outputs": [],
   "source": [
    "# https://beta.openai.com/pricing \n",
    "# davinci engine is their most powerful model  \n",
    "response = openai.Completion.create(engine=\"davinci\", prompt=text, max_tokens=100)"
   ]
  },
  {
   "cell_type": "code",
   "execution_count": 8,
   "metadata": {},
   "outputs": [
    {
     "data": {
      "text/plain": [
       "<OpenAIObject text_completion id=cmpl-3RlihigAtHoL4dVPWpkopRgxul4Yh at 0x7fdf8cd4a410> JSON: {\n",
       "  \"choices\": [\n",
       "    {\n",
       "      \"finish_reason\": \"length\",\n",
       "      \"index\": 0,\n",
       "      \"logprobs\": null,\n",
       "      \"text\": \"\\n\\nI am writing to you in bed\\n\\nThe daylight grows longer and the nights grow colder\\n\\nWhy don't you answer me? I love you madly I miss you badly\\n\\nYou say that I have an attitude of wealth and Taste and that I must detest poverty because I detest vulgarity\\n\\nYou are wrong\\n\\nI don't give a damn about wealth or poverty but only live for my Art Butter or no butter\\n\\nAnd as for vulgarity every woman\"\n",
       "    }\n",
       "  ],\n",
       "  \"created\": 1627747303,\n",
       "  \"id\": \"cmpl-3RlihigAtHoL4dVPWpkopRgxul4Yh\",\n",
       "  \"model\": \"davinci:2020-05-03\",\n",
       "  \"object\": \"text_completion\"\n",
       "}"
      ]
     },
     "execution_count": 8,
     "metadata": {},
     "output_type": "execute_result"
    }
   ],
   "source": [
    "response"
   ]
  },
  {
   "cell_type": "code",
   "execution_count": 14,
   "metadata": {},
   "outputs": [
    {
     "name": "stdout",
     "output_type": "stream",
     "text": [
      "{\n",
      "  \"choices\": [\n",
      "    {\n",
      "      \"finish_reason\": \"length\",\n",
      "      \"index\": 0,\n",
      "      \"logprobs\": null,\n",
      "      \"text\": \"\\n\\nI am writing to you in bed\\n\\nThe daylight grows longer and the nights grow colder\\n\\nWhy don't you answer me? I love you madly I miss you badly\\n\\nYou say that I have an attitude of wealth and Taste and that I must detest poverty because I detest vulgarity\\n\\nYou are wrong\\n\\nI don't give a damn about wealth or poverty but only live for my Art Butter or no butter\\n\\nAnd as for vulgarity every woman\"\n",
      "    }\n",
      "  ],\n",
      "  \"created\": 1627747303,\n",
      "  \"id\": \"cmpl-3RlihigAtHoL4dVPWpkopRgxul4Yh\",\n",
      "  \"model\": \"davinci:2020-05-03\",\n",
      "  \"object\": \"text_completion\"\n",
      "}\n"
     ]
    }
   ],
   "source": [
    "print(response)"
   ]
  },
  {
   "cell_type": "code",
   "execution_count": 25,
   "metadata": {},
   "outputs": [
    {
     "name": "stdout",
     "output_type": "stream",
     "text": [
      "\n",
      "\n",
      "I am writing to you in bed\n",
      "\n",
      "The daylight grows longer and the nights grow colder\n",
      "\n",
      "Why don't you answer me? I love you madly I miss you badly\n",
      "\n",
      "You say that I have an attitude of wealth and Taste and that I must detest poverty because I detest vulgarity\n",
      "\n",
      "You are wrong\n",
      "\n",
      "I don't give a damn about wealth or poverty but only live for my Art Butter or no butter\n",
      "\n",
      "And as for vulgarity every woman\n"
     ]
    }
   ],
   "source": [
    "print(response.choices[0].text)"
   ]
  }
 ],
 "metadata": {
  "kernelspec": {
   "display_name": "Python 3",
   "language": "python",
   "name": "python3"
  },
  "language_info": {
   "codemirror_mode": {
    "name": "ipython",
    "version": 3
   },
   "file_extension": ".py",
   "mimetype": "text/x-python",
   "name": "python",
   "nbconvert_exporter": "python",
   "pygments_lexer": "ipython3",
   "version": "3.7.3"
  }
 },
 "nbformat": 4,
 "nbformat_minor": 2
}
