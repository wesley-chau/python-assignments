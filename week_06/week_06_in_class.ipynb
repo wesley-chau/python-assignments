{
 "cells": [
  {
   "cell_type": "markdown",
   "metadata": {},
   "source": [
    "### Week 6\n",
    "\n",
    "This week we will continue cover Python basics. Some of the concepts we will go over are:\n",
    "<ul>\n",
    "    <li>Intro to Object Oriented Programming</li>\n",
    "    <li>Class / Method Objects </li>\n",
    "    <li>Class Instance</li>\n",
    "    <li>Inheritance and Polymorphism</li>\n",
    "    <li>Constructors / Magic methods</li>\n",
    "</ul>"
   ]
  },
  {
   "cell_type": "markdown",
   "metadata": {},
   "source": [
    "### What is a Class?\n",
    "\n",
    "Where objects are direct collections of data and methods that are performed on that data, <b> a Class is a blueprint for a collection of data.</b> When we write a Class, we are writing code that creates spaces and expectations for certain types of data as well as methods that can run on that data. It is essentially a pattern that allows us to write more performant code and lets us scale the complexity of our projects if we use them right. And thanks to Python, object and class creation are built in features of the language. This means that we can create several objects of that blueprint. Objects of classes are called <i>instances.</i>\n",
    "\n",
    "An instance of a class has access to all of the things that the declaration, the blueprint, defines for the class. With this we can actually separate the behavior of our code from the actual execution of it.\n",
    "\n",
    "This separation means that Classes have two parts to them, declaration and instantiation. Declaration is where we will make the blueprints and the details of the class. Instantiation will be creating objects of the Class. \n"
   ]
  },
  {
   "cell_type": "markdown",
   "metadata": {},
   "source": [
    "### What are objects?\n",
    "\n",
    "An Object is <b>any named element</b> in Python. From the integers to floats, to Dictionary or tuple, these are all Objects when they become named. Keep this in mind because we will be creating Objects with the class blueprints."
   ]
  },
  {
   "cell_type": "code",
   "execution_count": 1,
   "metadata": {},
   "outputs": [
    {
     "name": "stdout",
     "output_type": "stream",
     "text": [
      "<class 'int'>\n",
      "<class 'list'>\n",
      "<class 'tuple'>\n",
      "<class 'dict'>\n"
     ]
    }
   ],
   "source": [
    "print(type(1))\n",
    "print(type([]))\n",
    "print(type(()))\n",
    "print(type({}))"
   ]
  },
  {
   "cell_type": "markdown",
   "metadata": {},
   "source": [
    "### Creating a Class\n",
    "\n",
    "Classes contain four principle pieces: <b>name, constructor, attributes, and methods.</b>\n",
    "\n",
    "Remember, they're a pattern that we implement to control our code. So these pieces have to be followed for the Class to be valid. \n",
    "\n",
    "For this section, keep this block of example code in mind. This is an abstract example of a class declaration that can be filled with any specific version of a class. We will break down each section afterwards."
   ]
  },
  {
   "cell_type": "code",
   "execution_count": 1,
   "metadata": {},
   "outputs": [],
   "source": [
    "# Create a new object type called MyObject \n"
   ]
  },
  {
   "cell_type": "code",
   "execution_count": 2,
   "metadata": {},
   "outputs": [],
   "source": [
    "#An Example Class Declaration\n",
    "\n",
    "    "
   ]
  },
  {
   "cell_type": "markdown",
   "metadata": {},
   "source": [
    "### Name\n",
    "\n",
    "A Class has to have a name. This is how we are going to reference it when we create it.\n",
    "Class Names should be descriptive! We are not allowed to declare two versions of the same exact class. After declaring it, we cannot redefine it later on, so the name is vital to the identity of the Class.\n",
    "\n",
    "<pre>class ClassName:</pre>\n",
    "\n",
    "Class declarations use the keyword 'class' to declare that we are creating a class.\n",
    "Note that classes can only be declared at 0 indents. It cannot be repeatedly declared in a loop."
   ]
  },
  {
   "cell_type": "markdown",
   "metadata": {},
   "source": [
    "### Constructor\n",
    "\n",
    "<p>Creating a class always involves something called construction. In python, you will see this as the def __init__(): method declaration. Ignoring the double underscores for now (we will come back to those), the init method (initialize method) is used to create a instance of the Class objects. This is called a constructor method.\n",
    "    \n",
    "In these methods, the class will always have a 'self' reference to know that it is creating an instance of an object, and then it will have any other attributes that we would like to assign for the class. This method can take as many attributes as we need.\n",
    "\n",
    "Once in the init() method, we declare the attributes that we will send to the constructor just like we would for any function\n",
    "</p>\n"
   ]
  },
  {
   "cell_type": "markdown",
   "metadata": {},
   "source": [
    "### Attributes\n",
    "There are two types of attributes to classes, instance and shared These are similar to how we use scope outside of classes, but these are applied within classes as well.\n",
    "\n",
    "Class attributes are objects that are shared between all members of a class. So any member of these classes can reference or modify these attributes.\n",
    "\n",
    "Instance attributes are attributes that exist only to a specific instance of a class. These are kept internal and are references as [InstanceName.Attribute Name]. They are usually declared at construction, but can also be added in arbitrarily."
   ]
  },
  {
   "cell_type": "code",
   "execution_count": 3,
   "metadata": {},
   "outputs": [],
   "source": [
    "#Create a class \n",
    "\n",
    "    \n"
   ]
  },
  {
   "cell_type": "code",
   "execution_count": 4,
   "metadata": {},
   "outputs": [],
   "source": [
    "#Here we print the values of the class's attributes\n"
   ]
  },
  {
   "cell_type": "code",
   "execution_count": 5,
   "metadata": {},
   "outputs": [],
   "source": [
    "#Produces a NameError, attributes don't exist\n"
   ]
  },
  {
   "cell_type": "code",
   "execution_count": 6,
   "metadata": {},
   "outputs": [],
   "source": [
    "#Produces an AttributeError, attributes don't exist in the class\n"
   ]
  },
  {
   "cell_type": "markdown",
   "metadata": {},
   "source": [
    "#### Let's create our own class "
   ]
  },
  {
   "cell_type": "code",
   "execution_count": 7,
   "metadata": {},
   "outputs": [],
   "source": [
    "# doesn't run because it is expecting the argument breed \n",
    "\n"
   ]
  },
  {
   "cell_type": "code",
   "execution_count": null,
   "metadata": {},
   "outputs": [],
   "source": []
  },
  {
   "cell_type": "code",
   "execution_count": null,
   "metadata": {},
   "outputs": [],
   "source": []
  },
  {
   "cell_type": "code",
   "execution_count": null,
   "metadata": {},
   "outputs": [],
   "source": []
  },
  {
   "cell_type": "code",
   "execution_count": null,
   "metadata": {},
   "outputs": [],
   "source": []
  },
  {
   "cell_type": "code",
   "execution_count": null,
   "metadata": {},
   "outputs": [],
   "source": []
  },
  {
   "cell_type": "code",
   "execution_count": null,
   "metadata": {},
   "outputs": [],
   "source": []
  },
  {
   "cell_type": "code",
   "execution_count": null,
   "metadata": {},
   "outputs": [],
   "source": [
    "\n",
    "        "
   ]
  },
  {
   "cell_type": "code",
   "execution_count": null,
   "metadata": {},
   "outputs": [],
   "source": []
  },
  {
   "cell_type": "code",
   "execution_count": null,
   "metadata": {},
   "outputs": [],
   "source": []
  },
  {
   "cell_type": "code",
   "execution_count": null,
   "metadata": {},
   "outputs": [],
   "source": []
  },
  {
   "cell_type": "code",
   "execution_count": null,
   "metadata": {},
   "outputs": [],
   "source": []
  },
  {
   "cell_type": "code",
   "execution_count": null,
   "metadata": {},
   "outputs": [],
   "source": []
  },
  {
   "cell_type": "markdown",
   "metadata": {},
   "source": [
    "### Methods\n",
    "\n",
    "Methods are the functionality of a Class. Here you define functions that a Class can perform on its own attributes. This pattern of creating class methods creates a space that allows us to define a series of functions that several different instances can utilize to different effects.\n",
    "\n",
    "Methods reference the self, or will throw an error. This can be shown as\n",
    "<pre> def methodName(self):</pre>\n",
    "\n",
    "Writing methods this way guarantees that the method is written for a specific context. If we generically define a function without a class, we cannot guarantee its usage context. However, in a class, we have some control. For, example could have a series of numbers within an instance's attributes and any function to reference that instance's attributes and perform some actions. This is like telling a group of numbers to calculate the sum, but without having to keep track of the numbers individually.\n"
   ]
  },
  {
   "cell_type": "code",
   "execution_count": 16,
   "metadata": {},
   "outputs": [
    {
     "name": "stdout",
     "output_type": "stream",
     "text": [
      "3\n"
     ]
    }
   ],
   "source": [
    "#lecture example \n",
    "class ClassName:\n",
    "    def __init__(self,number1,number2):\n",
    "        self.number1 = number1\n",
    "        self.number2 = number2\n",
    "    \n",
    "    #here we define a new function, the Sum()\n",
    "    def sum(self):\n",
    "        return self.number1 + self.number2\n",
    "\n",
    "#This is the declaration of an instance with two attribute values\n",
    "instance = ClassName(1,2)\n",
    "\n",
    "#Print the sum with the Instance's function\n",
    "print(instance.sum())"
   ]
  },
  {
   "cell_type": "code",
   "execution_count": 8,
   "metadata": {},
   "outputs": [],
   "source": [
    "#adding a method \n"
   ]
  },
  {
   "cell_type": "code",
   "execution_count": null,
   "metadata": {},
   "outputs": [],
   "source": []
  },
  {
   "cell_type": "code",
   "execution_count": null,
   "metadata": {},
   "outputs": [],
   "source": []
  },
  {
   "cell_type": "code",
   "execution_count": null,
   "metadata": {},
   "outputs": [],
   "source": []
  },
  {
   "cell_type": "code",
   "execution_count": null,
   "metadata": {},
   "outputs": [],
   "source": []
  },
  {
   "cell_type": "code",
   "execution_count": null,
   "metadata": {},
   "outputs": [],
   "source": []
  },
  {
   "cell_type": "code",
   "execution_count": 9,
   "metadata": {},
   "outputs": [],
   "source": [
    "#pass in an attribute to method \n"
   ]
  },
  {
   "cell_type": "code",
   "execution_count": null,
   "metadata": {},
   "outputs": [],
   "source": []
  },
  {
   "cell_type": "code",
   "execution_count": null,
   "metadata": {},
   "outputs": [],
   "source": []
  },
  {
   "cell_type": "code",
   "execution_count": 10,
   "metadata": {},
   "outputs": [],
   "source": [
    "#method can take in outside attributes \n"
   ]
  },
  {
   "cell_type": "code",
   "execution_count": null,
   "metadata": {},
   "outputs": [],
   "source": []
  },
  {
   "cell_type": "code",
   "execution_count": null,
   "metadata": {},
   "outputs": [],
   "source": []
  },
  {
   "cell_type": "code",
   "execution_count": null,
   "metadata": {},
   "outputs": [],
   "source": []
  },
  {
   "cell_type": "markdown",
   "metadata": {},
   "source": [
    "#### Another Example of a Class "
   ]
  },
  {
   "cell_type": "code",
   "execution_count": null,
   "metadata": {},
   "outputs": [],
   "source": [
    "\n"
   ]
  },
  {
   "cell_type": "code",
   "execution_count": null,
   "metadata": {},
   "outputs": [],
   "source": []
  },
  {
   "cell_type": "code",
   "execution_count": null,
   "metadata": {},
   "outputs": [],
   "source": []
  },
  {
   "cell_type": "code",
   "execution_count": null,
   "metadata": {},
   "outputs": [],
   "source": []
  },
  {
   "cell_type": "code",
   "execution_count": null,
   "metadata": {},
   "outputs": [],
   "source": []
  },
  {
   "cell_type": "code",
   "execution_count": null,
   "metadata": {},
   "outputs": [],
   "source": []
  },
  {
   "cell_type": "code",
   "execution_count": null,
   "metadata": {},
   "outputs": [],
   "source": []
  },
  {
   "cell_type": "code",
   "execution_count": null,
   "metadata": {},
   "outputs": [],
   "source": []
  },
  {
   "cell_type": "code",
   "execution_count": null,
   "metadata": {},
   "outputs": [],
   "source": []
  },
  {
   "cell_type": "code",
   "execution_count": null,
   "metadata": {},
   "outputs": [],
   "source": []
  },
  {
   "cell_type": "markdown",
   "metadata": {},
   "source": [
    "## Inheritance\n",
    "\n",
    "Inheritance is a way to form new classes using classes that have already been defined. \n",
    "\n",
    "Old class is called based class and new class is called derived class \n",
    "\n",
    "The derived classes (descendants) override or extend the functionality of base classes (ancestors).\n"
   ]
  },
  {
   "cell_type": "markdown",
   "metadata": {},
   "source": [
    "Benefits of Inheritance gives you the ability to reuse code that you've already worked on "
   ]
  },
  {
   "cell_type": "code",
   "execution_count": 11,
   "metadata": {},
   "outputs": [],
   "source": [
    "# this is the based class \n",
    "\n",
    "\n",
    "# this is the derived class \n",
    "\n"
   ]
  },
  {
   "cell_type": "code",
   "execution_count": null,
   "metadata": {},
   "outputs": [],
   "source": []
  },
  {
   "cell_type": "code",
   "execution_count": null,
   "metadata": {},
   "outputs": [],
   "source": []
  },
  {
   "cell_type": "code",
   "execution_count": null,
   "metadata": {},
   "outputs": [],
   "source": []
  },
  {
   "cell_type": "code",
   "execution_count": null,
   "metadata": {},
   "outputs": [],
   "source": []
  },
  {
   "cell_type": "markdown",
   "metadata": {},
   "source": [
    "#### Another example of Inheritance\n",
    "\n",
    "\n",
    "The super() method is used to call BaseClass Functionality"
   ]
  },
  {
   "cell_type": "code",
   "execution_count": null,
   "metadata": {},
   "outputs": [],
   "source": []
  },
  {
   "cell_type": "code",
   "execution_count": null,
   "metadata": {},
   "outputs": [],
   "source": []
  },
  {
   "cell_type": "code",
   "execution_count": null,
   "metadata": {},
   "outputs": [],
   "source": []
  },
  {
   "cell_type": "code",
   "execution_count": 12,
   "metadata": {},
   "outputs": [],
   "source": [
    "#with super() \n"
   ]
  },
  {
   "cell_type": "code",
   "execution_count": null,
   "metadata": {},
   "outputs": [],
   "source": []
  },
  {
   "cell_type": "code",
   "execution_count": null,
   "metadata": {},
   "outputs": [],
   "source": []
  },
  {
   "cell_type": "markdown",
   "metadata": {},
   "source": [
    "## Polymorphism\n",
    "\n",
    "In Python, polymorphism refers to the way in which different object classes can share the same method name, and those methods can be called from the same place. "
   ]
  },
  {
   "cell_type": "code",
   "execution_count": null,
   "metadata": {},
   "outputs": [],
   "source": []
  },
  {
   "cell_type": "code",
   "execution_count": null,
   "metadata": {},
   "outputs": [],
   "source": []
  },
  {
   "cell_type": "code",
   "execution_count": null,
   "metadata": {},
   "outputs": [],
   "source": []
  },
  {
   "cell_type": "code",
   "execution_count": null,
   "metadata": {},
   "outputs": [],
   "source": []
  },
  {
   "cell_type": "code",
   "execution_count": null,
   "metadata": {},
   "outputs": [],
   "source": []
  },
  {
   "cell_type": "code",
   "execution_count": null,
   "metadata": {},
   "outputs": [],
   "source": []
  },
  {
   "cell_type": "markdown",
   "metadata": {},
   "source": [
    "#### Another example of polymorphism through abstract class "
   ]
  },
  {
   "cell_type": "code",
   "execution_count": null,
   "metadata": {},
   "outputs": [],
   "source": []
  },
  {
   "cell_type": "code",
   "execution_count": null,
   "metadata": {},
   "outputs": [],
   "source": []
  },
  {
   "cell_type": "code",
   "execution_count": null,
   "metadata": {},
   "outputs": [],
   "source": []
  },
  {
   "cell_type": "code",
   "execution_count": null,
   "metadata": {},
   "outputs": [],
   "source": []
  },
  {
   "cell_type": "code",
   "execution_count": null,
   "metadata": {},
   "outputs": [],
   "source": []
  },
  {
   "cell_type": "code",
   "execution_count": null,
   "metadata": {},
   "outputs": [],
   "source": []
  },
  {
   "cell_type": "code",
   "execution_count": null,
   "metadata": {},
   "outputs": [],
   "source": []
  },
  {
   "cell_type": "code",
   "execution_count": null,
   "metadata": {},
   "outputs": [],
   "source": []
  },
  {
   "cell_type": "markdown",
   "metadata": {},
   "source": [
    "### Magic Methods\n",
    "\n",
    "The <b>D</b>ouble <b>under</b>score, or dunder, method is a way of creating more built-in object functionality into our classes. When we construct an instance of a class, we only call the class name, we do not call any other methods afterwards. This is because we are using the built-int functionality of the init() method. We adapt the init method to the Class by surrounding it with underscores.\n",
    "\n",
    "This technique of extending existing method behavior is known as overloading. There are several other functions that can be overloaded. And they can be overloaded to do anything. Once dunder method is defined in a class, that definition replaces the existing functionality for the object's use case."
   ]
  },
  {
   "cell_type": "code",
   "execution_count": null,
   "metadata": {},
   "outputs": [],
   "source": []
  },
  {
   "cell_type": "code",
   "execution_count": null,
   "metadata": {},
   "outputs": [],
   "source": []
  },
  {
   "cell_type": "code",
   "execution_count": null,
   "metadata": {},
   "outputs": [],
   "source": []
  },
  {
   "cell_type": "code",
   "execution_count": null,
   "metadata": {},
   "outputs": [],
   "source": []
  },
  {
   "cell_type": "code",
   "execution_count": null,
   "metadata": {},
   "outputs": [],
   "source": []
  },
  {
   "cell_type": "code",
   "execution_count": null,
   "metadata": {},
   "outputs": [],
   "source": []
  },
  {
   "cell_type": "code",
   "execution_count": null,
   "metadata": {},
   "outputs": [],
   "source": []
  },
  {
   "cell_type": "code",
   "execution_count": null,
   "metadata": {},
   "outputs": [],
   "source": []
  },
  {
   "cell_type": "code",
   "execution_count": null,
   "metadata": {},
   "outputs": [],
   "source": []
  },
  {
   "cell_type": "code",
   "execution_count": null,
   "metadata": {},
   "outputs": [],
   "source": []
  },
  {
   "cell_type": "code",
   "execution_count": null,
   "metadata": {},
   "outputs": [],
   "source": []
  },
  {
   "cell_type": "code",
   "execution_count": null,
   "metadata": {},
   "outputs": [],
   "source": []
  },
  {
   "cell_type": "code",
   "execution_count": null,
   "metadata": {},
   "outputs": [],
   "source": []
  },
  {
   "cell_type": "markdown",
   "metadata": {},
   "source": [
    "### Final note on Using Class\n",
    "\n",
    "With Classes, it's more important to recognize that they are a strategy for approaching programming problems rather than looking at them as a necessary part of code. You will not always need a Class, and sometimes they are more trouble than they are worth. If you find yourself reusing a lot of code, it's probably time to start considering a strategy like Classes to organize and modulate your programming.\n",
    "\n",
    "Classes open up the opportunity for inheritance. This lets us create subclasses that take attributes and methods from parent classes. We'll go over these in the next lesson.\n",
    "\n",
    "Essentially,the Class construct is a way for us to create custom types with their own functionality. This helps programmers map information in code that isn't strictly related to numerical operations. Used properly, it can really help with the long term functionality of your code.\n",
    "\n",
    "Outside of the examples of this lesson, it's common to see classes (and more) implemented in the form of libraries. These libraries contain functionality that we desire, but maybe don't want to code ourselves. You can find more about libraries <a href=\"https://data-flair.training/blogs/python-libraries/\">here</a>."
   ]
  },
  {
   "cell_type": "code",
   "execution_count": null,
   "metadata": {},
   "outputs": [],
   "source": []
  }
 ],
 "metadata": {
  "kernelspec": {
   "display_name": "Python 3",
   "language": "python",
   "name": "python3"
  },
  "language_info": {
   "codemirror_mode": {
    "name": "ipython",
    "version": 3
   },
   "file_extension": ".py",
   "mimetype": "text/x-python",
   "name": "python",
   "nbconvert_exporter": "python",
   "pygments_lexer": "ipython3",
   "version": "3.7.3"
  }
 },
 "nbformat": 4,
 "nbformat_minor": 2
}
