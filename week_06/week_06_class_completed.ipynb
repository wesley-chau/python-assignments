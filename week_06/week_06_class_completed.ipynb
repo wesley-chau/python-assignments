{
 "cells": [
  {
   "cell_type": "markdown",
   "metadata": {},
   "source": [
    "### Week 6\n",
    "\n",
    "This week we will continue cover Python basics. Some of the concepts we will go over are:\n",
    "<ul>\n",
    "    <li>Intro to Object Oriented Programming</li>\n",
    "    <li>Class / Method Objects </li>\n",
    "    <li>Class Instance</li>\n",
    "    <li>Inheritance and Polymorphism</li>\n",
    "    <li>Constructors / Magic methods</li>\n",
    "</ul>"
   ]
  },
  {
   "cell_type": "markdown",
   "metadata": {},
   "source": [
    "### What is a Class?\n",
    "\n",
    "Where objects are direct collections of data and methods that are performed on that data, <b> a Class is a blueprint for a collection of data.</b> When we write a Class, we are writing code that creates spaces and expectations for certain types of data as well as methods that can run on that data. It is essentially a pattern that allows us to write more performant code and lets us scale the complexity of our projects if we use them right. And thanks to Python, object and class creation are built in features of the language. This means that we can create several objects of that blueprint. Objects of classes are called <i>instances.</i>\n",
    "\n",
    "An instance of a class has access to all of the things that the declaration, the blueprint, defines for the class. With this we can actually separate the behavior of our code from the actual execution of it.\n",
    "\n",
    "This separation means that Classes have two parts to them, declaration and instantiation. Declaration is where we will make the blueprints and the details of the class. Instantiation will be creating objects of the Class. \n"
   ]
  },
  {
   "cell_type": "markdown",
   "metadata": {},
   "source": [
    "### What are objects?\n",
    "\n",
    "An Object is <b>any named element</b> in Python. From the integers to floats, to Dictionary or tuple, these are all Objects when they become named. Keep this in mind because we will be creating Objects with the class blueprints."
   ]
  },
  {
   "cell_type": "code",
   "execution_count": 1,
   "metadata": {},
   "outputs": [
    {
     "name": "stdout",
     "output_type": "stream",
     "text": [
      "<class 'int'>\n",
      "<class 'list'>\n",
      "<class 'tuple'>\n",
      "<class 'dict'>\n"
     ]
    }
   ],
   "source": [
    "print(type(1))\n",
    "print(type([]))\n",
    "print(type(()))\n",
    "print(type({}))"
   ]
  },
  {
   "cell_type": "markdown",
   "metadata": {},
   "source": [
    "### Creating a Class\n",
    "\n",
    "Classes contain four principle pieces: <b>name, constructor, attributes, and methods.</b>\n",
    "\n",
    "Remember, they're a pattern that we implement to control our code. So these pieces have to be followed for the Class to be valid. \n",
    "\n",
    "For this section, keep this block of example code in mind. This is an abstract example of a class declaration that can be filled with any specific version of a class. We will break down each section afterwards."
   ]
  },
  {
   "cell_type": "code",
   "execution_count": 2,
   "metadata": {},
   "outputs": [
    {
     "name": "stdout",
     "output_type": "stream",
     "text": [
      "<class '__main__.MyObject'>\n"
     ]
    }
   ],
   "source": [
    "# Create a new object type called MyObject \n",
    "# Class is a blueprint that defines an object \n",
    "# Camel Casing \n",
    "class MyObject:\n",
    "    pass # placeholder + doesn't do anything \n",
    "\n",
    "# Instance of MyObject\n",
    "# instance of a specific object created from a class \n",
    "x = MyObject()\n",
    "\n",
    "#printing type of the instances \n",
    "print(type(x))"
   ]
  },
  {
   "cell_type": "code",
   "execution_count": 3,
   "metadata": {},
   "outputs": [],
   "source": [
    "#An Example Class Declaration\n",
    "\n",
    "#Class Name is declared first\n",
    "class ClassName:\n",
    "    \n",
    "    #Initializing function, or Constructor function (called method inside a class)\n",
    "    #special method that is the init method, called upon whenever creating instance of class \n",
    "    def __init__(self):\n",
    "        return\n",
    "    \n",
    "    #Class specific method declaration\n",
    "    def method(self):\n",
    "        #Method body goes here\n",
    "        return\n",
    "    \n",
    "    "
   ]
  },
  {
   "cell_type": "markdown",
   "metadata": {},
   "source": [
    "### Name\n",
    "\n",
    "A Class has to have a name. This is how we are going to reference it when we create it.\n",
    "Class Names should be descriptive! We are not allowed to declare two versions of the same exact class. After declaring it, we cannot redefine it later on, so the name is vital to the identity of the Class.\n",
    "\n",
    "<pre>class ClassName:</pre>\n",
    "\n",
    "Class declarations use the keyword 'class' to declare that we are creating a class.\n",
    "Note that classes can only be declared at 0 indents. It cannot be repeatedly declared in a loop."
   ]
  },
  {
   "cell_type": "markdown",
   "metadata": {},
   "source": [
    "### Constructor\n",
    "\n",
    "<p>Creating a class always involves something called construction. In python, you will see this as the def __init__(): method declaration. Ignoring the double underscores for now (we will come back to those), the init method (initialize method) is used to create a instance of the Class objects. This is called a constructor method.\n",
    "    \n",
    "In these methods, the class will always have a 'self' reference to know that it is creating an instance of an object, and then it will have any other attributes that we would like to assign for the class. This method can take as many attributes as we need.\n",
    "\n",
    "Once in the init() method, we declare the attributes that we will send to the constructor just like we would for any function\n",
    "</p>\n"
   ]
  },
  {
   "cell_type": "markdown",
   "metadata": {},
   "source": [
    "### Attributes\n",
    "There are two types of attributes to classes, instance and shared These are similar to how we use scope outside of classes, but these are applied within classes as well.\n",
    "\n",
    "Class attributes are objects that are shared between all members of a class. So any member of these classes can reference or modify these attributes.\n",
    "\n",
    "Instance attributes are attributes that exist only to a specific instance of a class. These are kept internal and are references as [InstanceName.Attribute Name]. They are usually declared at construction, but can also be added in arbitrarily."
   ]
  },
  {
   "cell_type": "code",
   "execution_count": 4,
   "metadata": {},
   "outputs": [],
   "source": [
    "#Create a class \n",
    "class ClassName:\n",
    "    \n",
    "    #In this constructor, we take three additional attributes\n",
    "    def __init__(self, firstAttribute, secondAttribute, thirdAttribute):\n",
    "        self.firstAttribute = firstAttribute\n",
    "        self.secondAttribute = secondAttribute\n",
    "        self.thirdAttribute = thirdAttribute\n",
    "\n",
    "#ClassName() is a reference to the __init__ method, it takes self by default, and the 1,2,3\n",
    "#all refer instead to the firstAttribute, secondAttribute, and thirdAttribute\n",
    "classInstance1 = ClassName(1,2,3)\n",
    "\n"
   ]
  },
  {
   "cell_type": "code",
   "execution_count": 5,
   "metadata": {},
   "outputs": [
    {
     "name": "stdout",
     "output_type": "stream",
     "text": [
      "1 2 3\n"
     ]
    }
   ],
   "source": [
    "#Here we print the values of the class's attributes\n",
    "print(classInstance1.firstAttribute,\n",
    "       classInstance1.secondAttribute,\n",
    "       classInstance1.thirdAttribute)"
   ]
  },
  {
   "cell_type": "code",
   "execution_count": 6,
   "metadata": {},
   "outputs": [
    {
     "ename": "NameError",
     "evalue": "name 'firstAttribute' is not defined",
     "output_type": "error",
     "traceback": [
      "\u001b[0;31m---------------------------------------------------------------------------\u001b[0m",
      "\u001b[0;31mNameError\u001b[0m                                 Traceback (most recent call last)",
      "\u001b[0;32m<ipython-input-6-96c1208815f0>\u001b[0m in \u001b[0;36m<module>\u001b[0;34m\u001b[0m\n\u001b[1;32m      1\u001b[0m \u001b[0;31m#Produces a NameError, attributes don't exist\u001b[0m\u001b[0;34m\u001b[0m\u001b[0;34m\u001b[0m\u001b[0;34m\u001b[0m\u001b[0m\n\u001b[0;32m----> 2\u001b[0;31m print(firstAttribute,\n\u001b[0m\u001b[1;32m      3\u001b[0m        \u001b[0msecondAttribute\u001b[0m\u001b[0;34m,\u001b[0m\u001b[0;34m\u001b[0m\u001b[0;34m\u001b[0m\u001b[0m\n\u001b[1;32m      4\u001b[0m        thirdAttribute)\n",
      "\u001b[0;31mNameError\u001b[0m: name 'firstAttribute' is not defined"
     ]
    }
   ],
   "source": [
    "#Produces a NameError, attributes don't exist\n",
    "print(firstAttribute,\n",
    "       secondAttribute,\n",
    "       thirdAttribute)"
   ]
  },
  {
   "cell_type": "code",
   "execution_count": 7,
   "metadata": {},
   "outputs": [
    {
     "ename": "AttributeError",
     "evalue": "type object 'ClassName' has no attribute 'firstAttribute'",
     "output_type": "error",
     "traceback": [
      "\u001b[0;31m---------------------------------------------------------------------------\u001b[0m",
      "\u001b[0;31mAttributeError\u001b[0m                            Traceback (most recent call last)",
      "\u001b[0;32m<ipython-input-7-53226b88521c>\u001b[0m in \u001b[0;36m<module>\u001b[0;34m\u001b[0m\n\u001b[1;32m      1\u001b[0m \u001b[0;31m#Produces an AttributeError, attributes don't exist in the class\u001b[0m\u001b[0;34m\u001b[0m\u001b[0;34m\u001b[0m\u001b[0;34m\u001b[0m\u001b[0m\n\u001b[0;32m----> 2\u001b[0;31m print(ClassName.firstAttribute,\n\u001b[0m\u001b[1;32m      3\u001b[0m     \u001b[0mClassName\u001b[0m\u001b[0;34m.\u001b[0m\u001b[0msecondAttribute\u001b[0m\u001b[0;34m,\u001b[0m\u001b[0;34m\u001b[0m\u001b[0;34m\u001b[0m\u001b[0m\n\u001b[1;32m      4\u001b[0m     ClassName.thirdAttribute)\n",
      "\u001b[0;31mAttributeError\u001b[0m: type object 'ClassName' has no attribute 'firstAttribute'"
     ]
    }
   ],
   "source": [
    "#Produces an AttributeError, attributes don't exist in the class\n",
    "print(ClassName.firstAttribute,\n",
    "    ClassName.secondAttribute, \n",
    "    ClassName.thirdAttribute)"
   ]
  },
  {
   "cell_type": "markdown",
   "metadata": {},
   "source": [
    "#### Let's create our own class "
   ]
  },
  {
   "cell_type": "code",
   "execution_count": 8,
   "metadata": {},
   "outputs": [
    {
     "ename": "TypeError",
     "evalue": "__init__() missing 1 required positional argument: 'breed'",
     "output_type": "error",
     "traceback": [
      "\u001b[0;31m---------------------------------------------------------------------------\u001b[0m",
      "\u001b[0;31mTypeError\u001b[0m                                 Traceback (most recent call last)",
      "\u001b[0;32m<ipython-input-8-a2c122c40ad2>\u001b[0m in \u001b[0;36m<module>\u001b[0;34m\u001b[0m\n\u001b[1;32m      4\u001b[0m         \u001b[0mself\u001b[0m\u001b[0;34m.\u001b[0m\u001b[0mbreed\u001b[0m \u001b[0;34m=\u001b[0m \u001b[0mbreed\u001b[0m\u001b[0;34m\u001b[0m\u001b[0;34m\u001b[0m\u001b[0m\n\u001b[1;32m      5\u001b[0m \u001b[0;34m\u001b[0m\u001b[0m\n\u001b[0;32m----> 6\u001b[0;31m \u001b[0mbaily\u001b[0m \u001b[0;34m=\u001b[0m \u001b[0mDog\u001b[0m\u001b[0;34m(\u001b[0m\u001b[0;34m)\u001b[0m\u001b[0;34m\u001b[0m\u001b[0;34m\u001b[0m\u001b[0m\n\u001b[0m",
      "\u001b[0;31mTypeError\u001b[0m: __init__() missing 1 required positional argument: 'breed'"
     ]
    }
   ],
   "source": [
    "# doesn't run because it is expecting the argument breed \n",
    "class Dog:\n",
    "    def __init__(self,breed):\n",
    "        self.breed = breed\n",
    "        \n",
    "baily = Dog()\n"
   ]
  },
  {
   "cell_type": "code",
   "execution_count": 9,
   "metadata": {},
   "outputs": [],
   "source": [
    "class Dog:\n",
    "    def __init__(self,breed):\n",
    "        self.breed = breed\n",
    "        \n",
    "baily = Dog(breed='Corgi')\n",
    "teddy = Dog(breed='Cavalier')"
   ]
  },
  {
   "cell_type": "code",
   "execution_count": 10,
   "metadata": {},
   "outputs": [
    {
     "data": {
      "text/plain": [
       "'Corgi'"
      ]
     },
     "execution_count": 10,
     "metadata": {},
     "output_type": "execute_result"
    }
   ],
   "source": [
    "baily.breed"
   ]
  },
  {
   "cell_type": "code",
   "execution_count": 11,
   "metadata": {},
   "outputs": [
    {
     "data": {
      "text/plain": [
       "'Cavalier'"
      ]
     },
     "execution_count": 11,
     "metadata": {},
     "output_type": "execute_result"
    }
   ],
   "source": [
    "teddy.breed"
   ]
  },
  {
   "cell_type": "code",
   "execution_count": 12,
   "metadata": {},
   "outputs": [],
   "source": [
    "class Dog:\n",
    "    def __init__(self,breed):\n",
    "        # attributes \n",
    "        # we take in a argument \n",
    "        # we assign ut using self.attriute \n",
    "        self.attribute = breed\n",
    "        \n",
    "baily = Dog(breed='Corgi')\n",
    "teddy = Dog(breed='Cavalier')"
   ]
  },
  {
   "cell_type": "code",
   "execution_count": 13,
   "metadata": {},
   "outputs": [
    {
     "data": {
      "text/plain": [
       "'Corgi'"
      ]
     },
     "execution_count": 13,
     "metadata": {},
     "output_type": "execute_result"
    }
   ],
   "source": [
    "# we don't have \"breed\" bc that's the parameter \n",
    "# name that we chose for this attribute \n",
    "baily.attribute"
   ]
  },
  {
   "cell_type": "code",
   "execution_count": 14,
   "metadata": {},
   "outputs": [
    {
     "data": {
      "text/plain": [
       "__main__.Dog"
      ]
     },
     "execution_count": 14,
     "metadata": {},
     "output_type": "execute_result"
    }
   ],
   "source": [
    "type(baily)"
   ]
  },
  {
   "cell_type": "code",
   "execution_count": 15,
   "metadata": {},
   "outputs": [],
   "source": [
    "class Dog:\n",
    "    \n",
    "     # Class Object Attribute\n",
    "     # this is the same for any instance of this class \n",
    "    species = 'animal'\n",
    "    \n",
    "    def __init__(self,breed,name):\n",
    "        self.breed = breed\n",
    "        self.name = name\n",
    "        "
   ]
  },
  {
   "cell_type": "code",
   "execution_count": 16,
   "metadata": {},
   "outputs": [],
   "source": [
    "teddy = Dog(breed='Cavelier',name ='Teddy')"
   ]
  },
  {
   "cell_type": "code",
   "execution_count": 17,
   "metadata": {},
   "outputs": [
    {
     "data": {
      "text/plain": [
       "__main__.Dog"
      ]
     },
     "execution_count": 17,
     "metadata": {},
     "output_type": "execute_result"
    }
   ],
   "source": [
    "type(teddy)"
   ]
  },
  {
   "cell_type": "code",
   "execution_count": 18,
   "metadata": {},
   "outputs": [
    {
     "data": {
      "text/plain": [
       "'Teddy'"
      ]
     },
     "execution_count": 18,
     "metadata": {},
     "output_type": "execute_result"
    }
   ],
   "source": [
    "teddy.name"
   ]
  },
  {
   "cell_type": "code",
   "execution_count": 19,
   "metadata": {},
   "outputs": [
    {
     "data": {
      "text/plain": [
       "'Cavelier'"
      ]
     },
     "execution_count": 19,
     "metadata": {},
     "output_type": "execute_result"
    }
   ],
   "source": [
    "teddy.breed"
   ]
  },
  {
   "cell_type": "code",
   "execution_count": 20,
   "metadata": {},
   "outputs": [
    {
     "data": {
      "text/plain": [
       "'animal'"
      ]
     },
     "execution_count": 20,
     "metadata": {},
     "output_type": "execute_result"
    }
   ],
   "source": [
    "teddy.species"
   ]
  },
  {
   "cell_type": "markdown",
   "metadata": {},
   "source": [
    "### Methods\n",
    "\n",
    "Methods are the functionality of a Class. Here you define functions that a Class can perform on its own attributes. This pattern of creating class methods creates a space that allows us to define a series of functions that several different instances can utilize to different effects.\n",
    "\n",
    "Methods reference the self, or will throw an error. This can be shown as\n",
    "<pre> def methodName(self):</pre>\n",
    "\n",
    "Writing methods this way guarantees that the method is written for a specific context. If we generically define a function without a class, we cannot guarantee its usage context. However, in a class, we have some control. For, example could have a series of numbers within an instance's attributes and any function to reference that instance's attributes and perform some actions. This is like telling a group of numbers to calculate the sum, but without having to keep track of the numbers individually.\n"
   ]
  },
  {
   "cell_type": "code",
   "execution_count": 21,
   "metadata": {},
   "outputs": [
    {
     "name": "stdout",
     "output_type": "stream",
     "text": [
      "3\n"
     ]
    }
   ],
   "source": [
    "#lecture example \n",
    "class ClassName:\n",
    "    def __init__(self,number1,number2):\n",
    "        self.number1 = number1\n",
    "        self.number2 = number2\n",
    "    \n",
    "    #here we define a new function, the Sum()\n",
    "    def sum(self):\n",
    "        return self.number1 + self.number2\n",
    "\n",
    "#This is the declaration of an instance with two attribute values\n",
    "instance = ClassName(1,2)\n",
    "\n",
    "#Print the sum with the Instance's function\n",
    "print(instance.sum())"
   ]
  },
  {
   "cell_type": "code",
   "execution_count": 22,
   "metadata": {},
   "outputs": [],
   "source": [
    "#adding a method \n",
    "class Dog:\n",
    "    \n",
    "     # Class Object Attribute\n",
    "     # this is the same for any instance of this class \n",
    "    species = 'animal'\n",
    "    \n",
    "    def __init__(self,breed,name):\n",
    "        self.breed = breed\n",
    "        self.name = name\n",
    "        \n",
    "    #adding a method \n",
    "    def speak(self):\n",
    "        print(\"Woof, woof\")"
   ]
  },
  {
   "cell_type": "code",
   "execution_count": 23,
   "metadata": {},
   "outputs": [],
   "source": [
    "Baloo = Dog(breed='Shiba',name ='Baloo')"
   ]
  },
  {
   "cell_type": "code",
   "execution_count": 24,
   "metadata": {},
   "outputs": [
    {
     "data": {
      "text/plain": [
       "'Shiba'"
      ]
     },
     "execution_count": 24,
     "metadata": {},
     "output_type": "execute_result"
    }
   ],
   "source": [
    "Baloo.breed #attributes never have () - not executed "
   ]
  },
  {
   "cell_type": "code",
   "execution_count": 25,
   "metadata": {},
   "outputs": [
    {
     "data": {
      "text/plain": [
       "'Baloo'"
      ]
     },
     "execution_count": 25,
     "metadata": {},
     "output_type": "execute_result"
    }
   ],
   "source": [
    "Baloo.name #attributes never have () "
   ]
  },
  {
   "cell_type": "code",
   "execution_count": 26,
   "metadata": {},
   "outputs": [
    {
     "name": "stdout",
     "output_type": "stream",
     "text": [
      "Woof, woof\n"
     ]
    }
   ],
   "source": [
    "Baloo.speak() #methods have () - executed "
   ]
  },
  {
   "cell_type": "code",
   "execution_count": 27,
   "metadata": {},
   "outputs": [
    {
     "data": {
      "text/plain": [
       "<bound method Dog.speak of <__main__.Dog object at 0x7fc0538990b8>>"
      ]
     },
     "execution_count": 27,
     "metadata": {},
     "output_type": "execute_result"
    }
   ],
   "source": [
    "Baloo.speak # you have speak method bound to dog at computer memory "
   ]
  },
  {
   "cell_type": "code",
   "execution_count": 28,
   "metadata": {},
   "outputs": [],
   "source": [
    "#pass in an attribute to method \n",
    "class Dog:\n",
    "    \n",
    "     # Class Object Attribute\n",
    "     # this is the same for any instance of this class \n",
    "    species = 'animal'\n",
    "    \n",
    "    def __init__(self,breed,name):\n",
    "        self.breed = breed\n",
    "        self.name = name\n",
    "        \n",
    "    def speak(self):\n",
    "        print(\"Woof, I'm {}\".format(self.name)) #need to use self keyword because it's bounded ti this class "
   ]
  },
  {
   "cell_type": "code",
   "execution_count": 29,
   "metadata": {},
   "outputs": [],
   "source": [
    "my_dog = Dog(breed='Poodle',name ='Chelsea')"
   ]
  },
  {
   "cell_type": "code",
   "execution_count": 30,
   "metadata": {},
   "outputs": [
    {
     "name": "stdout",
     "output_type": "stream",
     "text": [
      "Woof, I'm Chelsea\n"
     ]
    }
   ],
   "source": [
    "my_dog.speak()"
   ]
  },
  {
   "cell_type": "code",
   "execution_count": 31,
   "metadata": {},
   "outputs": [],
   "source": [
    "#method can take in outside attributes \n",
    "class Dog:\n",
    "    \n",
    "     # Class Object Attribute\n",
    "     # this is the same for any instance of this class \n",
    "    species = 'animal'\n",
    "    \n",
    "    def __init__(self,breed,name):\n",
    "        self.breed = breed\n",
    "        self.name = name\n",
    "        \n",
    "    def speak(self,age):\n",
    "        print(\"Woof, I'm {} and I'm {} years old\".format(self.name, age)) \n",
    "        #don't need self.age \n",
    "        #because age is provided for us when we call the method speak() "
   ]
  },
  {
   "cell_type": "code",
   "execution_count": 32,
   "metadata": {},
   "outputs": [],
   "source": [
    "friend_dog = Dog(breed='Mutt',name ='Spud')"
   ]
  },
  {
   "cell_type": "code",
   "execution_count": 33,
   "metadata": {},
   "outputs": [
    {
     "name": "stdout",
     "output_type": "stream",
     "text": [
      "Woof, I'm Spud and I'm 2 years old\n"
     ]
    }
   ],
   "source": [
    "friend_dog.speak(2)"
   ]
  },
  {
   "cell_type": "code",
   "execution_count": 34,
   "metadata": {},
   "outputs": [
    {
     "ename": "TypeError",
     "evalue": "speak() missing 1 required positional argument: 'age'",
     "output_type": "error",
     "traceback": [
      "\u001b[0;31m---------------------------------------------------------------------------\u001b[0m",
      "\u001b[0;31mTypeError\u001b[0m                                 Traceback (most recent call last)",
      "\u001b[0;32m<ipython-input-34-5780b0ff6449>\u001b[0m in \u001b[0;36m<module>\u001b[0;34m\u001b[0m\n\u001b[1;32m      1\u001b[0m \u001b[0;31m# will get error because expects argument\u001b[0m\u001b[0;34m\u001b[0m\u001b[0;34m\u001b[0m\u001b[0;34m\u001b[0m\u001b[0m\n\u001b[0;32m----> 2\u001b[0;31m \u001b[0mfriend_dog\u001b[0m\u001b[0;34m.\u001b[0m\u001b[0mspeak\u001b[0m\u001b[0;34m(\u001b[0m\u001b[0;34m)\u001b[0m\u001b[0;34m\u001b[0m\u001b[0;34m\u001b[0m\u001b[0m\n\u001b[0m",
      "\u001b[0;31mTypeError\u001b[0m: speak() missing 1 required positional argument: 'age'"
     ]
    }
   ],
   "source": [
    "# will get error because expects argument \n",
    "friend_dog.speak()"
   ]
  },
  {
   "cell_type": "markdown",
   "metadata": {},
   "source": [
    "#### Another Example of a Class "
   ]
  },
  {
   "cell_type": "code",
   "execution_count": 35,
   "metadata": {},
   "outputs": [],
   "source": [
    "class Circle:\n",
    "    \n",
    "    #class object attribute, true regardless of instance \n",
    "    pi = 3.14\n",
    "\n",
    "    # Circle gets instantiated with a radius (default is 1)\n",
    "    def __init__(self, radius=1):\n",
    "        self.radius = radius \n",
    "\n",
    "    # Method for getting Circumference\n",
    "    def getCircumference(self):\n",
    "        return self.radius * self.pi * 2\n"
   ]
  },
  {
   "cell_type": "code",
   "execution_count": 36,
   "metadata": {},
   "outputs": [],
   "source": [
    "my_circle = Circle(10)"
   ]
  },
  {
   "cell_type": "code",
   "execution_count": 37,
   "metadata": {},
   "outputs": [
    {
     "data": {
      "text/plain": [
       "3.14"
      ]
     },
     "execution_count": 37,
     "metadata": {},
     "output_type": "execute_result"
    }
   ],
   "source": [
    "#hit tab to see attributes + method \n",
    "my_circle.pi"
   ]
  },
  {
   "cell_type": "code",
   "execution_count": 38,
   "metadata": {},
   "outputs": [
    {
     "data": {
      "text/plain": [
       "10"
      ]
     },
     "execution_count": 38,
     "metadata": {},
     "output_type": "execute_result"
    }
   ],
   "source": [
    "#default value gets override when I intialize it \n",
    "my_circle.radius"
   ]
  },
  {
   "cell_type": "code",
   "execution_count": 39,
   "metadata": {},
   "outputs": [
    {
     "data": {
      "text/plain": [
       "62.800000000000004"
      ]
     },
     "execution_count": 39,
     "metadata": {},
     "output_type": "execute_result"
    }
   ],
   "source": [
    "my_circle.getCircumference()"
   ]
  },
  {
   "cell_type": "code",
   "execution_count": 40,
   "metadata": {},
   "outputs": [],
   "source": [
    "class Circle:\n",
    "    \n",
    "    pi = 3.14\n",
    "\n",
    "    def __init__(self, radius=1):\n",
    "        self.radius = radius \n",
    "        # attribute doesn't have to be defined in parameter call \n",
    "        self.area = radius * radius * self.pi # or Circle.pi since it's a class obj attribute \n",
    "\n",
    "    def getCircumference(self):\n",
    "        return self.radius * self.pi * 2\n"
   ]
  },
  {
   "cell_type": "code",
   "execution_count": 41,
   "metadata": {},
   "outputs": [],
   "source": [
    "new_circle = Circle(20)"
   ]
  },
  {
   "cell_type": "code",
   "execution_count": 42,
   "metadata": {},
   "outputs": [
    {
     "data": {
      "text/plain": [
       "3.14"
      ]
     },
     "execution_count": 42,
     "metadata": {},
     "output_type": "execute_result"
    }
   ],
   "source": [
    "new_circle.pi"
   ]
  },
  {
   "cell_type": "code",
   "execution_count": 43,
   "metadata": {},
   "outputs": [
    {
     "data": {
      "text/plain": [
       "20"
      ]
     },
     "execution_count": 43,
     "metadata": {},
     "output_type": "execute_result"
    }
   ],
   "source": [
    "new_circle.radius"
   ]
  },
  {
   "cell_type": "code",
   "execution_count": 44,
   "metadata": {},
   "outputs": [
    {
     "data": {
      "text/plain": [
       "1256.0"
      ]
     },
     "execution_count": 44,
     "metadata": {},
     "output_type": "execute_result"
    }
   ],
   "source": [
    "new_circle.area"
   ]
  },
  {
   "cell_type": "markdown",
   "metadata": {},
   "source": [
    "## Inheritance\n",
    "\n",
    "Inheritance is a way to form new classes using classes that have already been defined. \n",
    "\n",
    "Old class is called based class and new class is called derived class \n",
    "\n",
    "The derived classes (descendants) override or extend the functionality of base classes (ancestors).\n"
   ]
  },
  {
   "cell_type": "markdown",
   "metadata": {},
   "source": [
    "Benefits of Inheritance gives you the ability to reuse code that you've already worked on "
   ]
  },
  {
   "cell_type": "code",
   "execution_count": 53,
   "metadata": {},
   "outputs": [],
   "source": [
    "# this is the based class \n",
    "class Animal:\n",
    "    # the init method automatically gets executed when you create animal \n",
    "    def __init__(self):\n",
    "        print(\"Animal created\")\n",
    "\n",
    "    def whatAmI(self):\n",
    "        print(\"Animal\")\n",
    "\n",
    "    def eat(self):\n",
    "        print(\"Eating\")\n",
    "\n",
    "# this is the derived class and it will inherit Animal \n",
    "class Dog(Animal):\n",
    "    def __init__(self):\n",
    "        #create instance of animal class when creating dog class \n",
    "        Animal.__init__(self)\n",
    "        print(\"Dog created\")\n",
    "        \n",
    "    # this will override old method in Animal \n",
    "    def whatAmI(self):\n",
    "        print(\"Dog\")\n",
    "\n",
    "    def bark(self):\n",
    "        print(\"Woof, woof\")\n",
    "        \n"
   ]
  },
  {
   "cell_type": "code",
   "execution_count": 54,
   "metadata": {},
   "outputs": [
    {
     "name": "stdout",
     "output_type": "stream",
     "text": [
      "Animal created\n",
      "Dog created\n"
     ]
    }
   ],
   "source": [
    "#this will run the animal init method + dog init method \n",
    "# because of inheritance \n",
    "d = Dog()"
   ]
  },
  {
   "cell_type": "code",
   "execution_count": 55,
   "metadata": {},
   "outputs": [
    {
     "name": "stdout",
     "output_type": "stream",
     "text": [
      "Dog\n"
     ]
    }
   ],
   "source": [
    "# a derived class modifies existing behavior of the base class \n",
    "\n",
    "d.whatAmI()"
   ]
  },
  {
   "cell_type": "code",
   "execution_count": 56,
   "metadata": {},
   "outputs": [
    {
     "name": "stdout",
     "output_type": "stream",
     "text": [
      "Eating\n"
     ]
    }
   ],
   "source": [
    "# a derived class inherits the functionality of the base class \n",
    "\n",
    "d.eat()"
   ]
  },
  {
   "cell_type": "code",
   "execution_count": 57,
   "metadata": {},
   "outputs": [
    {
     "name": "stdout",
     "output_type": "stream",
     "text": [
      "Woof, woof\n"
     ]
    }
   ],
   "source": [
    "#the derived class extends (adds to) the functionality of the base class, by defining a new bark() method.\n",
    "\n",
    "d.bark()"
   ]
  },
  {
   "cell_type": "markdown",
   "metadata": {},
   "source": [
    "#### Another example of Inheritance\n",
    "\n",
    "\n",
    "The super() method is used to call BaseClass Functionality"
   ]
  },
  {
   "cell_type": "code",
   "execution_count": 85,
   "metadata": {},
   "outputs": [],
   "source": [
    "# A square is a subclass of a rectangle \n",
    "\n",
    "class Rectangle:\n",
    "    def __init__(self, length, width):\n",
    "        self.length = length\n",
    "        self.width = width\n",
    "\n",
    "    def area(self):\n",
    "        return self.length * self.width\n",
    "\n",
    "    def perimeter(self):\n",
    "        return 2 * self.length + 2 * self.width\n",
    "\n",
    "class Square:\n",
    "    def __init__(self, length):\n",
    "        self.length = length\n",
    "\n",
    "    def area(self):\n",
    "        return self.length * self.length\n",
    "\n",
    "    def perimeter(self):\n",
    "        return 4 * self.length"
   ]
  },
  {
   "cell_type": "code",
   "execution_count": 86,
   "metadata": {},
   "outputs": [
    {
     "data": {
      "text/plain": [
       "16"
      ]
     },
     "execution_count": 86,
     "metadata": {},
     "output_type": "execute_result"
    }
   ],
   "source": [
    "square = Square(4)\n",
    "square.area()"
   ]
  },
  {
   "cell_type": "code",
   "execution_count": 87,
   "metadata": {},
   "outputs": [
    {
     "data": {
      "text/plain": [
       "8"
      ]
     },
     "execution_count": 87,
     "metadata": {},
     "output_type": "execute_result"
    }
   ],
   "source": [
    "rectangle = Rectangle(2,4)\n",
    "rectangle.area()"
   ]
  },
  {
   "cell_type": "code",
   "execution_count": 88,
   "metadata": {},
   "outputs": [],
   "source": [
    "#with super() \n",
    "class Rectangle: #super class \n",
    "    def __init__(self, length, width):\n",
    "        self.length = length\n",
    "        self.width = width\n",
    "\n",
    "    def area(self):\n",
    "        return self.length * self.width\n",
    "\n",
    "    def perimeter(self):\n",
    "        return 2 * self.length + 2 * self.width\n",
    "\n",
    "# Here we declare that the Square class inherits from the Rectangle class\n",
    "class Square(Rectangle): #subclass \n",
    "    def __init__(self, length):\n",
    "        super().__init__(length, length) #similar to using Animal above "
   ]
  },
  {
   "cell_type": "code",
   "execution_count": 89,
   "metadata": {},
   "outputs": [
    {
     "data": {
      "text/plain": [
       "16"
      ]
     },
     "execution_count": 89,
     "metadata": {},
     "output_type": "execute_result"
    }
   ],
   "source": [
    "square = Square(4)\n",
    "square.area()"
   ]
  },
  {
   "cell_type": "code",
   "execution_count": 90,
   "metadata": {},
   "outputs": [
    {
     "data": {
      "text/plain": [
       "8"
      ]
     },
     "execution_count": 90,
     "metadata": {},
     "output_type": "execute_result"
    }
   ],
   "source": [
    "rectangle = Rectangle(2,4)\n",
    "rectangle.area()"
   ]
  },
  {
   "cell_type": "markdown",
   "metadata": {},
   "source": [
    "## Polymorphism\n",
    "\n",
    "In Python, polymorphism refers to the way in which different object classes can share the same method name, and those methods can be called from the same place. "
   ]
  },
  {
   "cell_type": "code",
   "execution_count": 59,
   "metadata": {},
   "outputs": [],
   "source": [
    "class Dog:\n",
    "    def __init__(self, name):\n",
    "        self.name = name\n",
    "\n",
    "    def speak(self):\n",
    "        return self.name+' says Woof!'\n",
    "    \n",
    "class Cat:\n",
    "    def __init__(self, name):\n",
    "        self.name = name\n",
    "\n",
    "    def speak(self):\n",
    "        return self.name+' says Meow!' \n",
    "\n",
    "# declare \n",
    "teddy = Dog('teddy')\n",
    "shadow = Cat('shadow')"
   ]
  },
  {
   "cell_type": "code",
   "execution_count": 60,
   "metadata": {},
   "outputs": [
    {
     "name": "stdout",
     "output_type": "stream",
     "text": [
      "teddy says Woof!\n",
      "shadow says Meow!\n"
     ]
    }
   ],
   "source": [
    "#Here we have a Dog class and a Cat class, and each has a .speak() method. When called, each object's .speak() method returns a result unique to the object.\n",
    "print(teddy.speak())\n",
    "print(shadow.speak())\n"
   ]
  },
  {
   "cell_type": "code",
   "execution_count": 61,
   "metadata": {},
   "outputs": [
    {
     "name": "stdout",
     "output_type": "stream",
     "text": [
      "teddy says Woof!\n",
      "shadow says Meow!\n"
     ]
    }
   ],
   "source": [
    "#demostrating polymorphism through iteration \n",
    "for pet in [teddy,shadow]:\n",
    "    print(pet.speak())"
   ]
  },
  {
   "cell_type": "code",
   "execution_count": 63,
   "metadata": {},
   "outputs": [],
   "source": [
    "#polymorphism through function \n",
    "#the function doesnt know if you're going to pass through a dog or cat class \n",
    "#because both class share same function, we can use this through polymorphism \n",
    "def pet_speak(pet):\n",
    "    print(pet.speak())"
   ]
  },
  {
   "cell_type": "code",
   "execution_count": 64,
   "metadata": {},
   "outputs": [
    {
     "name": "stdout",
     "output_type": "stream",
     "text": [
      "teddy says Woof!\n"
     ]
    }
   ],
   "source": [
    "pet_speak(teddy)"
   ]
  },
  {
   "cell_type": "code",
   "execution_count": 65,
   "metadata": {},
   "outputs": [
    {
     "name": "stdout",
     "output_type": "stream",
     "text": [
      "shadow says Meow!\n"
     ]
    }
   ],
   "source": [
    "pet_speak(shadow)"
   ]
  },
  {
   "cell_type": "markdown",
   "metadata": {},
   "source": [
    "#### Another example of polymorphism through abstract class "
   ]
  },
  {
   "cell_type": "code",
   "execution_count": 67,
   "metadata": {},
   "outputs": [],
   "source": [
    "class Pet():\n",
    "    \n",
    "    def __init__(self,name):\n",
    "        self.name = name \n",
    "        \n",
    "    #base class expects you to inherit the abstract method and override it \n",
    "    def speak(self): \n",
    "        raise NotImplementedError(\"Need to implement method\") "
   ]
  },
  {
   "cell_type": "code",
   "execution_count": 68,
   "metadata": {},
   "outputs": [],
   "source": [
    "my_pet = Pet(\"Turtle\")"
   ]
  },
  {
   "cell_type": "code",
   "execution_count": 69,
   "metadata": {},
   "outputs": [
    {
     "ename": "NotImplementedError",
     "evalue": "Need to implement method",
     "output_type": "error",
     "traceback": [
      "\u001b[0;31m---------------------------------------------------------------------------\u001b[0m",
      "\u001b[0;31mNotImplementedError\u001b[0m                       Traceback (most recent call last)",
      "\u001b[0;32m<ipython-input-69-c7299c359485>\u001b[0m in \u001b[0;36m<module>\u001b[0;34m\u001b[0m\n\u001b[0;32m----> 1\u001b[0;31m \u001b[0mmy_pet\u001b[0m\u001b[0;34m.\u001b[0m\u001b[0mspeak\u001b[0m\u001b[0;34m(\u001b[0m\u001b[0;34m)\u001b[0m\u001b[0;34m\u001b[0m\u001b[0;34m\u001b[0m\u001b[0m\n\u001b[0m",
      "\u001b[0;32m<ipython-input-67-678e206d5746>\u001b[0m in \u001b[0;36mspeak\u001b[0;34m(self)\u001b[0m\n\u001b[1;32m      5\u001b[0m \u001b[0;34m\u001b[0m\u001b[0m\n\u001b[1;32m      6\u001b[0m     \u001b[0;32mdef\u001b[0m \u001b[0mspeak\u001b[0m\u001b[0;34m(\u001b[0m\u001b[0mself\u001b[0m\u001b[0;34m)\u001b[0m\u001b[0;34m:\u001b[0m\u001b[0;34m\u001b[0m\u001b[0;34m\u001b[0m\u001b[0m\n\u001b[0;32m----> 7\u001b[0;31m         \u001b[0;32mraise\u001b[0m \u001b[0mNotImplementedError\u001b[0m\u001b[0;34m(\u001b[0m\u001b[0;34m\"Need to implement method\"\u001b[0m\u001b[0;34m)\u001b[0m\u001b[0;34m\u001b[0m\u001b[0;34m\u001b[0m\u001b[0m\n\u001b[0m",
      "\u001b[0;31mNotImplementedError\u001b[0m: Need to implement method"
     ]
    }
   ],
   "source": [
    "#will run into error \n",
    "my_pet.speak()"
   ]
  },
  {
   "cell_type": "code",
   "execution_count": 80,
   "metadata": {},
   "outputs": [],
   "source": [
    "class Dog(Pet):\n",
    "    def speak(self):\n",
    "        return self.name+ \" says woof\""
   ]
  },
  {
   "cell_type": "code",
   "execution_count": 81,
   "metadata": {},
   "outputs": [],
   "source": [
    "class Cat(Pet):\n",
    "    def speak(self):\n",
    "        return self.name+ \" says meow\""
   ]
  },
  {
   "cell_type": "code",
   "execution_count": 82,
   "metadata": {},
   "outputs": [],
   "source": [
    "teddy = Dog('teddy')\n",
    "shadow = Cat('shadow')"
   ]
  },
  {
   "cell_type": "code",
   "execution_count": 83,
   "metadata": {},
   "outputs": [
    {
     "name": "stdout",
     "output_type": "stream",
     "text": [
      "teddy says woof\n"
     ]
    }
   ],
   "source": [
    "print(teddy.speak())"
   ]
  },
  {
   "cell_type": "code",
   "execution_count": 84,
   "metadata": {},
   "outputs": [
    {
     "name": "stdout",
     "output_type": "stream",
     "text": [
      "shadow says meow\n"
     ]
    }
   ],
   "source": [
    "print(shadow.speak())"
   ]
  },
  {
   "cell_type": "markdown",
   "metadata": {},
   "source": [
    "### Magic Methods\n",
    "\n",
    "The <b>D</b>ouble <b>under</b>score, or dunder, method is a way of creating more built-in object functionality into our classes. When we construct an instance of a class, we only call the class name, we do not call any other methods afterwards. This is because we are using the built-int functionality of the init() method. We adapt the init method to the Class by surrounding it with underscores.\n",
    "\n",
    "This technique of extending existing method behavior is known as overloading. There are several other functions that can be overloaded. And they can be overloaded to do anything. Once dunder method is defined in a class, that definition replaces the existing functionality for the object's use case."
   ]
  },
  {
   "cell_type": "code",
   "execution_count": 91,
   "metadata": {},
   "outputs": [],
   "source": [
    "mylist = [1,3,4]"
   ]
  },
  {
   "cell_type": "code",
   "execution_count": 92,
   "metadata": {},
   "outputs": [
    {
     "data": {
      "text/plain": [
       "3"
      ]
     },
     "execution_count": 92,
     "metadata": {},
     "output_type": "execute_result"
    }
   ],
   "source": [
    "len(mylist)"
   ]
  },
  {
   "cell_type": "code",
   "execution_count": 93,
   "metadata": {},
   "outputs": [],
   "source": [
    "class SampleClassName:\n",
    "    def __init__(self):\n",
    "        #Pass is a Python way was declaring \"Block intentionally left blank\"\n",
    "        pass"
   ]
  },
  {
   "cell_type": "code",
   "execution_count": 94,
   "metadata": {},
   "outputs": [],
   "source": [
    "mysample = SampleClassName()"
   ]
  },
  {
   "cell_type": "code",
   "execution_count": 95,
   "metadata": {},
   "outputs": [
    {
     "ename": "TypeError",
     "evalue": "object of type 'SampleClassName' has no len()",
     "output_type": "error",
     "traceback": [
      "\u001b[0;31m---------------------------------------------------------------------------\u001b[0m",
      "\u001b[0;31mTypeError\u001b[0m                                 Traceback (most recent call last)",
      "\u001b[0;32m<ipython-input-95-6bfd5b3d3b11>\u001b[0m in \u001b[0;36m<module>\u001b[0;34m\u001b[0m\n\u001b[1;32m      1\u001b[0m \u001b[0;31m#will get a type error\u001b[0m\u001b[0;34m\u001b[0m\u001b[0;34m\u001b[0m\u001b[0;34m\u001b[0m\u001b[0m\n\u001b[0;32m----> 2\u001b[0;31m \u001b[0mlen\u001b[0m\u001b[0;34m(\u001b[0m\u001b[0mmysample\u001b[0m\u001b[0;34m)\u001b[0m\u001b[0;34m\u001b[0m\u001b[0;34m\u001b[0m\u001b[0m\n\u001b[0m",
      "\u001b[0;31mTypeError\u001b[0m: object of type 'SampleClassName' has no len()"
     ]
    }
   ],
   "source": [
    "#will get a type error \n",
    "len(mysample) "
   ]
  },
  {
   "cell_type": "code",
   "execution_count": 104,
   "metadata": {},
   "outputs": [],
   "source": [
    "#how can we use built in methods for our objects? \n",
    "#Dunder (magic methods)\n",
    "\n",
    "class Book():\n",
    "    def __init__(self, title, author, pages):\n",
    "        self.title = title\n",
    "        self.author = author\n",
    "        self.pages = pages\n"
   ]
  },
  {
   "cell_type": "code",
   "execution_count": 105,
   "metadata": {},
   "outputs": [],
   "source": [
    "mybook = Book(\"Unbearable Lightness of Being\", \"Milan Kundera\", 323)"
   ]
  },
  {
   "cell_type": "code",
   "execution_count": 106,
   "metadata": {},
   "outputs": [
    {
     "name": "stdout",
     "output_type": "stream",
     "text": [
      "<__main__.Book object at 0x7fc0538d94e0>\n"
     ]
    }
   ],
   "source": [
    "#will just print the string representation \n",
    "print(mybook)"
   ]
  },
  {
   "cell_type": "code",
   "execution_count": 123,
   "metadata": {},
   "outputs": [],
   "source": [
    "class Book():\n",
    "    def __init__(self, title, author, pages):\n",
    "        self.title = title\n",
    "        self.author = author\n",
    "        self.pages = pages\n",
    "\n",
    "    def __str__(self):\n",
    "        return f\"{self.title} by {self.author}, pages: {self.pages}\"\n",
    "    \n",
    "    def __len__(self):\n",
    "        return self.pages\n",
    "    \n",
    "    def __del__(self):\n",
    "        print (\"delete book from memory\")\n"
   ]
  },
  {
   "cell_type": "code",
   "execution_count": 120,
   "metadata": {},
   "outputs": [
    {
     "name": "stdout",
     "output_type": "stream",
     "text": [
      "Unbearable Lightness of Being by Milan Kundera, pages: 323\n"
     ]
    }
   ],
   "source": [
    "mybook = Book(\"Unbearable Lightness of Being\", \"Milan Kundera\", 323)\n",
    "print(mybook)"
   ]
  },
  {
   "cell_type": "code",
   "execution_count": 121,
   "metadata": {},
   "outputs": [
    {
     "name": "stdout",
     "output_type": "stream",
     "text": [
      "323\n"
     ]
    }
   ],
   "source": [
    "print(len(mybook))"
   ]
  },
  {
   "cell_type": "code",
   "execution_count": 124,
   "metadata": {},
   "outputs": [],
   "source": [
    "#run to delete book from memory \n",
    "del mybook"
   ]
  },
  {
   "cell_type": "code",
   "execution_count": 125,
   "metadata": {},
   "outputs": [
    {
     "ename": "NameError",
     "evalue": "name 'mybook' is not defined",
     "output_type": "error",
     "traceback": [
      "\u001b[0;31m---------------------------------------------------------------------------\u001b[0m",
      "\u001b[0;31mNameError\u001b[0m                                 Traceback (most recent call last)",
      "\u001b[0;32m<ipython-input-125-2f92c6672e53>\u001b[0m in \u001b[0;36m<module>\u001b[0;34m\u001b[0m\n\u001b[0;32m----> 1\u001b[0;31m \u001b[0mprint\u001b[0m\u001b[0;34m(\u001b[0m\u001b[0mmybook\u001b[0m\u001b[0;34m)\u001b[0m\u001b[0;34m\u001b[0m\u001b[0;34m\u001b[0m\u001b[0m\n\u001b[0m",
      "\u001b[0;31mNameError\u001b[0m: name 'mybook' is not defined"
     ]
    }
   ],
   "source": [
    "#confirm book has been deleted \n",
    "print(mybook)"
   ]
  },
  {
   "cell_type": "markdown",
   "metadata": {},
   "source": [
    "### Final note on Using Class\n",
    "\n",
    "With Classes, it's more important to recognize that they are a strategy for approaching programming problems rather than looking at them as a necessary part of code. You will not always need a Class, and sometimes they are more trouble than they are worth. If you find yourself reusing a lot of code, it's probably time to start considering a strategy like Classes to organize and modulate your programming.\n",
    "\n",
    "Classes open up the opportunity for inheritance. This lets us create subclasses that take attributes and methods from parent classes. We'll go over these in the next lesson.\n",
    "\n",
    "Essentially,the Class construct is a way for us to create custom types with their own functionality. This helps programmers map information in code that isn't strictly related to numerical operations. Used properly, it can really help with the long term functionality of your code.\n",
    "\n",
    "Outside of the examples of this lesson, it's common to see classes (and more) implemented in the form of libraries. These libraries contain functionality that we desire, but maybe don't want to code ourselves. You can find more about libraries <a href=\"https://data-flair.training/blogs/python-libraries/\">here</a>."
   ]
  },
  {
   "cell_type": "code",
   "execution_count": null,
   "metadata": {},
   "outputs": [],
   "source": []
  }
 ],
 "metadata": {
  "kernelspec": {
   "display_name": "Python 3",
   "language": "python",
   "name": "python3"
  },
  "language_info": {
   "codemirror_mode": {
    "name": "ipython",
    "version": 3
   },
   "file_extension": ".py",
   "mimetype": "text/x-python",
   "name": "python",
   "nbconvert_exporter": "python",
   "pygments_lexer": "ipython3",
   "version": "3.7.3"
  }
 },
 "nbformat": 4,
 "nbformat_minor": 2
}
