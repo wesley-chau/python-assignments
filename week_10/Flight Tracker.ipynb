{
 "cells": [
  {
   "cell_type": "code",
   "execution_count": 73,
   "id": "cef273be",
   "metadata": {},
   "outputs": [],
   "source": [
    "import requests\n",
    "import json\n",
    "import getpass"
   ]
  },
  {
   "cell_type": "code",
   "execution_count": 83,
   "id": "f24e6cdd",
   "metadata": {},
   "outputs": [
    {
     "name": "stdout",
     "output_type": "stream",
     "text": [
      "Object ` access_key = fcdd44bbde38c34ff04cfbed906aeb26` not found.\n"
     ]
    }
   ],
   "source": [
    "flight_api_url = 'http://api.aviationstack.com/v1/routes' \n",
    "? access_key = fcdd44bbde38c34ff04cfbed906aeb26"
   ]
  },
  {
   "cell_type": "code",
   "execution_count": 84,
   "id": "efb509ac",
   "metadata": {},
   "outputs": [],
   "source": [
    "# calling the API with requests\n",
    "response = requests.get(flight_api_url)\n",
    "flight_data = response.json()"
   ]
  },
  {
   "cell_type": "code",
   "execution_count": 85,
   "id": "0aa7ed6d",
   "metadata": {},
   "outputs": [
    {
     "name": "stdout",
     "output_type": "stream",
     "text": [
      "<class 'dict'>\n"
     ]
    }
   ],
   "source": [
    "print(type(flight_data))"
   ]
  },
  {
   "cell_type": "code",
   "execution_count": 86,
   "id": "8343057a",
   "metadata": {},
   "outputs": [
    {
     "data": {
      "text/plain": [
       "{'error': {'code': 'missing_access_key',\n",
       "  'message': 'You have not supplied an API Access Key. [Required format: access_key=YOUR_ACCESS_KEY]'}}"
      ]
     },
     "execution_count": 86,
     "metadata": {},
     "output_type": "execute_result"
    }
   ],
   "source": [
    "flight_data"
   ]
  },
  {
   "cell_type": "code",
   "execution_count": null,
   "id": "3edc0a4b",
   "metadata": {},
   "outputs": [],
   "source": []
  }
 ],
 "metadata": {
  "kernelspec": {
   "display_name": "Python 3",
   "language": "python",
   "name": "python3"
  },
  "language_info": {
   "codemirror_mode": {
    "name": "ipython",
    "version": 3
   },
   "file_extension": ".py",
   "mimetype": "text/x-python",
   "name": "python",
   "nbconvert_exporter": "python",
   "pygments_lexer": "ipython3",
   "version": "3.8.8"
  }
 },
 "nbformat": 4,
 "nbformat_minor": 5
}
