{
 "cells": [
  {
   "cell_type": "code",
   "execution_count": 57,
   "id": "4e580ef6",
   "metadata": {},
   "outputs": [],
   "source": [
    "import requests\n",
    "import json"
   ]
  },
  {
   "cell_type": "code",
   "execution_count": 58,
   "id": "fb2d9bbf",
   "metadata": {},
   "outputs": [],
   "source": [
    "params = {\n",
    "  'access_key': 'fcdd44bbde38c34ff04cfbed906aeb26'\n",
    "}"
   ]
  },
  {
   "cell_type": "code",
   "execution_count": 59,
   "id": "0745c09a",
   "metadata": {},
   "outputs": [],
   "source": [
    "api_result = requests.get('http://api.aviationstack.com/v1/flights', params)"
   ]
  },
  {
   "cell_type": "code",
   "execution_count": 60,
   "id": "490264fc",
   "metadata": {},
   "outputs": [],
   "source": [
    "api_response = api_result.json()"
   ]
  },
  {
   "cell_type": "code",
   "execution_count": 61,
   "id": "e7bf6f85",
   "metadata": {},
   "outputs": [
    {
     "ename": "KeyError",
     "evalue": "'results'",
     "output_type": "error",
     "traceback": [
      "\u001b[0;31m---------------------------------------------------------------------------\u001b[0m",
      "\u001b[0;31mKeyError\u001b[0m                                  Traceback (most recent call last)",
      "\u001b[0;32m<ipython-input-61-3e43c9d46e99>\u001b[0m in \u001b[0;36m<module>\u001b[0;34m\u001b[0m\n\u001b[0;32m----> 1\u001b[0;31m \u001b[0;32mfor\u001b[0m \u001b[0mflight\u001b[0m \u001b[0;32min\u001b[0m \u001b[0mapi_response\u001b[0m\u001b[0;34m[\u001b[0m\u001b[0;34m'results'\u001b[0m\u001b[0;34m]\u001b[0m\u001b[0;34m:\u001b[0m\u001b[0;34m\u001b[0m\u001b[0;34m\u001b[0m\u001b[0m\n\u001b[0m\u001b[1;32m      2\u001b[0m     \u001b[0;32mif\u001b[0m \u001b[0;34m(\u001b[0m\u001b[0mflight\u001b[0m\u001b[0;34m[\u001b[0m\u001b[0;34m'live'\u001b[0m\u001b[0;34m]\u001b[0m\u001b[0;34m[\u001b[0m\u001b[0;34m'is_ground'\u001b[0m\u001b[0;34m]\u001b[0m \u001b[0;32mis\u001b[0m \u001b[0;32mFalse\u001b[0m\u001b[0;34m)\u001b[0m\u001b[0;34m:\u001b[0m\u001b[0;34m\u001b[0m\u001b[0;34m\u001b[0m\u001b[0m\n\u001b[1;32m      3\u001b[0m         print(u'%s flight %s from %s (%s) to %s (%s) is in the air.' % (\n\u001b[1;32m      4\u001b[0m             \u001b[0mflight\u001b[0m\u001b[0;34m[\u001b[0m\u001b[0;34m'airline'\u001b[0m\u001b[0;34m]\u001b[0m\u001b[0;34m[\u001b[0m\u001b[0;34m'name'\u001b[0m\u001b[0;34m]\u001b[0m\u001b[0;34m,\u001b[0m\u001b[0;34m\u001b[0m\u001b[0;34m\u001b[0m\u001b[0m\n\u001b[1;32m      5\u001b[0m             \u001b[0mflight\u001b[0m\u001b[0;34m[\u001b[0m\u001b[0;34m'flight'\u001b[0m\u001b[0;34m]\u001b[0m\u001b[0;34m[\u001b[0m\u001b[0;34m'iata'\u001b[0m\u001b[0;34m]\u001b[0m\u001b[0;34m,\u001b[0m\u001b[0;34m\u001b[0m\u001b[0;34m\u001b[0m\u001b[0m\n",
      "\u001b[0;31mKeyError\u001b[0m: 'results'"
     ]
    }
   ],
   "source": [
    "for flight in api_response['results']:\n",
    "    if (flight['live']['is_ground'] is False):\n",
    "        print(u'%s flight %s from %s (%s) to %s (%s) is in the air.' % (\n",
    "            flight['airline']['name'],\n",
    "            flight['flight']['iata'],\n",
    "            flight['departure']['airport'],\n",
    "            flight['departure']['iata'],\n",
    "            flight['arrival']['airport'],\n",
    "            flight['arrival']['iata']))"
   ]
  },
  {
   "cell_type": "code",
   "execution_count": null,
   "id": "0cd027b3",
   "metadata": {},
   "outputs": [],
   "source": []
  }
 ],
 "metadata": {
  "kernelspec": {
   "display_name": "Python 3",
   "language": "python",
   "name": "python3"
  },
  "language_info": {
   "codemirror_mode": {
    "name": "ipython",
    "version": 3
   },
   "file_extension": ".py",
   "mimetype": "text/x-python",
   "name": "python",
   "nbconvert_exporter": "python",
   "pygments_lexer": "ipython3",
   "version": "3.8.8"
  }
 },
 "nbformat": 4,
 "nbformat_minor": 5
}
